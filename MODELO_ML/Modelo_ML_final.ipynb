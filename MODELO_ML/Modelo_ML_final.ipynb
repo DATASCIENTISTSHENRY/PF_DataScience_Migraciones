{
 "cells": [
  {
   "cell_type": "code",
   "execution_count": 1,
   "id": "f23dd0a8",
   "metadata": {},
   "outputs": [],
   "source": [
    "import numpy as np\n",
    "import pandas as pd\n",
    "import matplotlib.pyplot as plt\n",
    "import warnings\n",
    "import seaborn as sns\n",
    "from datetime import datetime  # Importa datetime\n",
    "from sklearn.preprocessing import StandardScaler\n",
    "from sklearn.impute import KNNImputer\n",
    "from sklearn.metrics import mean_squared_error, r2_score\n",
    "import optuna\n",
    "import pandas as pd\n",
    "from xgboost.sklearn import XGBRegressor\n",
    "from sklearn.model_selection import train_test_split\n",
    "from sklearn.metrics import mean_absolute_error, r2_score\n",
    "warnings.filterwarnings(\"ignore\")\n"
   ]
  },
  {
   "cell_type": "markdown",
   "id": "9db96d7a",
   "metadata": {},
   "source": [
    "# Modelo ML para determinar variacion de stock migratorio con cambios en los indicadores "
   ]
  },
  {
   "cell_type": "markdown",
   "id": "7dd58c73",
   "metadata": {},
   "source": [
    "El modelo buscará predecir el stock migratorio de Argentina ante variaciones de los indicadores estudiados. Se utilizaron datos de stock migratorio e indicadores de todos los paises del dataset de la ONU para el entrenamiento del modelo. \n",
    "A partir del dataset de stock migratorio de las naciones unidas y los valores de indicadores del banco mundial se contruyó una tabla para el entrenamiento del modelo. \n",
    "\n",
    "Para obtener el dataset de trabajo se realizaron las siguientes transformaciones:\n",
    "* se agrupó el dataset de naciones unidas por país de destino, sumando las cantidades de todos los paises de origen, obteniendo el valor de stock de inmigrantes por país por año\n",
    "* se agregaron a la tabla los valores de los indicadores del banco mundial.\n",
    "Todo este analisis para llegar al datset esta en el notebook 'EDA_datasets_internacionales'."
   ]
  },
  {
   "cell_type": "markdown",
   "id": "15d36a1a",
   "metadata": {},
   "source": [
    "### 1. Ingesta de dataset con datos para entrenamiento del modelo"
   ]
  },
  {
   "cell_type": "code",
   "execution_count": 2,
   "id": "2eb113ce",
   "metadata": {},
   "outputs": [],
   "source": [
    "Stock_migrantes_agrupado=pd.read_csv('Stock_migrantes_agrupado')"
   ]
  },
  {
   "cell_type": "code",
   "execution_count": 3,
   "id": "b6be932f",
   "metadata": {},
   "outputs": [],
   "source": [
    "Stock_migrantes_agrupado=Stock_migrantes_agrupado.drop(columns='Unnamed: 0')"
   ]
  },
  {
   "cell_type": "code",
   "execution_count": 4,
   "id": "e05a0030",
   "metadata": {},
   "outputs": [
    {
     "data": {
      "text/html": [
       "<div>\n",
       "<style scoped>\n",
       "    .dataframe tbody tr th:only-of-type {\n",
       "        vertical-align: middle;\n",
       "    }\n",
       "\n",
       "    .dataframe tbody tr th {\n",
       "        vertical-align: top;\n",
       "    }\n",
       "\n",
       "    .dataframe thead th {\n",
       "        text-align: right;\n",
       "    }\n",
       "</style>\n",
       "<table border=\"1\" class=\"dataframe\">\n",
       "  <thead>\n",
       "    <tr style=\"text-align: right;\">\n",
       "      <th></th>\n",
       "      <th>ISO3_dest</th>\n",
       "      <th>Year</th>\n",
       "      <th>ingreso_stock</th>\n",
       "      <th>Country Code</th>\n",
       "      <th>Ingresos</th>\n",
       "      <th>Electricidad</th>\n",
       "      <th>Contaminación</th>\n",
       "      <th>Crecimiento PBI</th>\n",
       "      <th>Crecimiento PBI per cápita</th>\n",
       "      <th>Desempleo Hombre</th>\n",
       "      <th>Desempleo mujeres</th>\n",
       "      <th>Gasto PBI</th>\n",
       "      <th>Importaciones</th>\n",
       "      <th>Migracion neta</th>\n",
       "      <th>Desempleados con educación avanzada</th>\n",
       "      <th>Tasa de cambio</th>\n",
       "      <th>Pobreza</th>\n",
       "      <th>Mortalidad</th>\n",
       "    </tr>\n",
       "  </thead>\n",
       "  <tbody>\n",
       "    <tr>\n",
       "      <th>0</th>\n",
       "      <td>ABW</td>\n",
       "      <td>1990</td>\n",
       "      <td>11099</td>\n",
       "      <td>ABW</td>\n",
       "      <td>NaN</td>\n",
       "      <td>100.000000</td>\n",
       "      <td>NaN</td>\n",
       "      <td>3.961402</td>\n",
       "      <td>2.195805</td>\n",
       "      <td>NaN</td>\n",
       "      <td>NaN</td>\n",
       "      <td>NaN</td>\n",
       "      <td>5.810000e+08</td>\n",
       "      <td>879.0</td>\n",
       "      <td>NaN</td>\n",
       "      <td>1.79</td>\n",
       "      <td>NaN</td>\n",
       "      <td>7.100</td>\n",
       "    </tr>\n",
       "    <tr>\n",
       "      <th>1</th>\n",
       "      <td>ABW</td>\n",
       "      <td>1995</td>\n",
       "      <td>19002</td>\n",
       "      <td>ABW</td>\n",
       "      <td>NaN</td>\n",
       "      <td>100.000000</td>\n",
       "      <td>NaN</td>\n",
       "      <td>2.547144</td>\n",
       "      <td>-0.567202</td>\n",
       "      <td>NaN</td>\n",
       "      <td>NaN</td>\n",
       "      <td>NaN</td>\n",
       "      <td>1.597000e+09</td>\n",
       "      <td>1598.0</td>\n",
       "      <td>NaN</td>\n",
       "      <td>1.79</td>\n",
       "      <td>NaN</td>\n",
       "      <td>6.366</td>\n",
       "    </tr>\n",
       "    <tr>\n",
       "      <th>2</th>\n",
       "      <td>ABW</td>\n",
       "      <td>2000</td>\n",
       "      <td>26897</td>\n",
       "      <td>ABW</td>\n",
       "      <td>NaN</td>\n",
       "      <td>91.660398</td>\n",
       "      <td>NaN</td>\n",
       "      <td>7.616589</td>\n",
       "      <td>4.918354</td>\n",
       "      <td>6.5</td>\n",
       "      <td>NaN</td>\n",
       "      <td>NaN</td>\n",
       "      <td>2.582000e+09</td>\n",
       "      <td>1235.0</td>\n",
       "      <td>NaN</td>\n",
       "      <td>1.79</td>\n",
       "      <td>NaN</td>\n",
       "      <td>6.335</td>\n",
       "    </tr>\n",
       "  </tbody>\n",
       "</table>\n",
       "</div>"
      ],
      "text/plain": [
       "  ISO3_dest  Year  ingreso_stock Country Code  Ingresos  Electricidad  \\\n",
       "0       ABW  1990          11099          ABW       NaN    100.000000   \n",
       "1       ABW  1995          19002          ABW       NaN    100.000000   \n",
       "2       ABW  2000          26897          ABW       NaN     91.660398   \n",
       "\n",
       "   Contaminación  Crecimiento PBI  Crecimiento PBI per cápita  \\\n",
       "0            NaN         3.961402                    2.195805   \n",
       "1            NaN         2.547144                   -0.567202   \n",
       "2            NaN         7.616589                    4.918354   \n",
       "\n",
       "   Desempleo Hombre  Desempleo mujeres  Gasto PBI  Importaciones  \\\n",
       "0               NaN                NaN        NaN   5.810000e+08   \n",
       "1               NaN                NaN        NaN   1.597000e+09   \n",
       "2               6.5                NaN        NaN   2.582000e+09   \n",
       "\n",
       "   Migracion neta  Desempleados con educación avanzada  Tasa de cambio  \\\n",
       "0           879.0                                  NaN            1.79   \n",
       "1          1598.0                                  NaN            1.79   \n",
       "2          1235.0                                  NaN            1.79   \n",
       "\n",
       "   Pobreza  Mortalidad  \n",
       "0      NaN       7.100  \n",
       "1      NaN       6.366  \n",
       "2      NaN       6.335  "
      ]
     },
     "execution_count": 4,
     "metadata": {},
     "output_type": "execute_result"
    }
   ],
   "source": [
    "Stock_migrantes_agrupado.head(3)"
   ]
  },
  {
   "cell_type": "code",
   "execution_count": 5,
   "id": "624506b6",
   "metadata": {},
   "outputs": [
    {
     "data": {
      "text/plain": [
       "ISO3_dest                                 0\n",
       "Year                                      0\n",
       "ingreso_stock                             0\n",
       "Country Code                            112\n",
       "Ingresos                               1515\n",
       "Electricidad                            315\n",
       "Contaminación                           446\n",
       "Crecimiento PBI                         254\n",
       "Crecimiento PBI per cápita              255\n",
       "Desempleo Hombre                        880\n",
       "Desempleo mujeres                       494\n",
       "Gasto PBI                               894\n",
       "Importaciones                           260\n",
       "Migracion neta                          112\n",
       "Desempleados con educación avanzada    1172\n",
       "Tasa de cambio                          234\n",
       "Pobreza                                1383\n",
       "Mortalidad                              139\n",
       "dtype: int64"
      ]
     },
     "execution_count": 5,
     "metadata": {},
     "output_type": "execute_result"
    }
   ],
   "source": [
    "Stock_migrantes_agrupado.isna().sum()"
   ]
  },
  {
   "cell_type": "code",
   "execution_count": 6,
   "id": "b55ab18c",
   "metadata": {},
   "outputs": [
    {
     "data": {
      "text/plain": [
       "(1610, 18)"
      ]
     },
     "execution_count": 6,
     "metadata": {},
     "output_type": "execute_result"
    }
   ],
   "source": [
    "Stock_migrantes_agrupado.shape"
   ]
  },
  {
   "cell_type": "markdown",
   "id": "19bb7507",
   "metadata": {},
   "source": [
    "#### 1.a Elimino filas que tengan menos valores no nulos que el umbral"
   ]
  },
  {
   "cell_type": "code",
   "execution_count": 7,
   "id": "4a58cd93",
   "metadata": {},
   "outputs": [],
   "source": [
    "umbral = len(Stock_migrantes_agrupado.columns) * 0.7\n",
    "Stock_migrantes_agrupado_sin_na= Stock_migrantes_agrupado.dropna(thresh=umbral)"
   ]
  },
  {
   "cell_type": "code",
   "execution_count": 8,
   "id": "953023d5",
   "metadata": {},
   "outputs": [
    {
     "data": {
      "text/plain": [
       "(1039, 18)"
      ]
     },
     "execution_count": 8,
     "metadata": {},
     "output_type": "execute_result"
    }
   ],
   "source": [
    "Stock_migrantes_agrupado_sin_na.shape"
   ]
  },
  {
   "cell_type": "markdown",
   "id": "6aa7e4e3",
   "metadata": {},
   "source": [
    "#### 1.b Imputo datos faltantes en las columnas remanentes con KNN"
   ]
  },
  {
   "cell_type": "code",
   "execution_count": 9,
   "id": "1dda9f77",
   "metadata": {},
   "outputs": [],
   "source": [
    "# columnas a imputar \n",
    "columns_to_impute = ['ingreso_stock', 'Ingresos',\n",
    "       'Electricidad', 'Contaminación', 'Crecimiento PBI',\n",
    "       'Crecimiento PBI per cápita', 'Desempleo Hombre', 'Desempleo mujeres',\n",
    "       'Gasto PBI', 'Importaciones',\n",
    "       'Desempleados con educación avanzada', 'Tasa de cambio', 'Pobreza',\n",
    "       'Mortalidad']\n",
    "\n",
    "# Copio el DataFrame original para no modificarlo directamente\n",
    "Stock_migrantes_agrupado_sin_na_imputed =Stock_migrantes_agrupado_sin_na.copy()\n",
    "\n",
    "# Creo una instancia de KNNImputer\n",
    "imputer = KNNImputer(n_neighbors=5)  # Elige el número de vecinos que deseas considerar\n",
    "\n",
    "# fitteo los datos utilizando KNNImputer\n",
    "Stock_migrantes_agrupado_sin_na_imputed[columns_to_impute] = imputer.fit_transform(Stock_migrantes_agrupado_sin_na_imputed[columns_to_impute])"
   ]
  },
  {
   "cell_type": "code",
   "execution_count": 10,
   "id": "4d4b8136",
   "metadata": {},
   "outputs": [],
   "source": [
    "# Ordeno el DataFrame por la columna 'Year'\n",
    "Stock_migrantes_agrupado_sin_na_imputed.sort_values('Year', inplace=True)\n",
    "\n",
    "# Resseteo el índice\n",
    "Stock_migrantes_agrupado_sin_na_imputed.reset_index(drop=True, inplace=True)"
   ]
  },
  {
   "cell_type": "code",
   "execution_count": 11,
   "id": "aa9de8c7",
   "metadata": {},
   "outputs": [],
   "source": [
    "Stock_migrantes_agrupado_sin_na_imputed['ingreso_stock']=Stock_migrantes_agrupado_sin_na_imputed['ingreso_stock'].astype(int)"
   ]
  },
  {
   "cell_type": "code",
   "execution_count": 12,
   "id": "caa2927a",
   "metadata": {},
   "outputs": [
    {
     "data": {
      "text/plain": [
       "Index(['ISO3_dest', 'Year', 'ingreso_stock', 'Country Code', 'Ingresos',\n",
       "       'Electricidad', 'Contaminación', 'Crecimiento PBI',\n",
       "       'Crecimiento PBI per cápita', 'Desempleo Hombre', 'Desempleo mujeres',\n",
       "       'Gasto PBI', 'Importaciones', 'Migracion neta',\n",
       "       'Desempleados con educación avanzada', 'Tasa de cambio', 'Pobreza',\n",
       "       'Mortalidad'],\n",
       "      dtype='object')"
      ]
     },
     "execution_count": 12,
     "metadata": {},
     "output_type": "execute_result"
    }
   ],
   "source": [
    "Stock_migrantes_agrupado_sin_na_imputed.columns"
   ]
  },
  {
   "cell_type": "markdown",
   "id": "017430f4",
   "metadata": {},
   "source": [
    "### 2. Modelos de ML"
   ]
  },
  {
   "cell_type": "markdown",
   "id": "94406b48",
   "metadata": {},
   "source": [
    "#### 2.1 Preparacion de datos de train y test para probar los modelos:"
   ]
  },
  {
   "cell_type": "markdown",
   "id": "04a13976",
   "metadata": {},
   "source": [
    "Separamos los datos en train y test y se hace un escalamiento de las features para aplicarlo en algunos modelos. "
   ]
  },
  {
   "cell_type": "code",
   "execution_count": 13,
   "id": "e64b4e04",
   "metadata": {},
   "outputs": [],
   "source": [
    "# Definir features y target\n",
    "X = Stock_migrantes_agrupado_sin_na_imputed.drop(['ingreso_stock','Migracion neta','Country Code','Tasa de cambio','Desempleo mujeres','Desempleo Hombre','Contaminación','Crecimiento PBI','Gasto PBI'], axis=1)  # Características excepto 'Migracion neta' y 'Country Code'\n",
    "y = Stock_migrantes_agrupado_sin_na_imputed['ingreso_stock']  # Etiquetas\n",
    "# Dividir los datos en conjuntos de entrenamiento y prueba y hacer dummies\n",
    "X = pd.get_dummies(X, columns=['ISO3_dest'])\n",
    "\n",
    "# Dividir los datos en conjuntos de entrenamiento y prueba\n",
    "X_train, X_test, y_train, y_test = train_test_split(X, y, test_size=0.2, random_state=42,shuffle=False)\n",
    "\n",
    "scaler = StandardScaler()\n",
    "X_train_scaled = scaler.fit_transform(X_train)\n",
    "X_test_scaled = scaler.fit_transform(X_test)"
   ]
  },
  {
   "cell_type": "markdown",
   "id": "3c7d2760",
   "metadata": {},
   "source": [
    "#### 2.2 Regresion lineal multiple"
   ]
  },
  {
   "cell_type": "code",
   "execution_count": 14,
   "id": "9142c556",
   "metadata": {},
   "outputs": [
    {
     "name": "stderr",
     "output_type": "stream",
     "text": [
      "[I 2023-11-29 09:30:02,923] A new study created in memory with name: no-name-970c29c7-802a-4e00-8c8f-8c15c18a0d42\n",
      "[I 2023-11-29 09:30:03,447] Trial 0 finished with value: 558596.860913815 and parameters: {}. Best is trial 0 with value: 558596.860913815.\n"
     ]
    },
    {
     "name": "stdout",
     "output_type": "stream",
     "text": [
      "MAE con regresión múltiple: 558596.860913815\n",
      "R-squared (R2) con regresión múltiple: 0.9098473955194447\n"
     ]
    }
   ],
   "source": [
    "warnings.filterwarnings(\"ignore\")\n",
    "from sklearn.linear_model import LinearRegression\n",
    "\n",
    "\n",
    "# La función objetivo para la optimización de Optuna\n",
    "def objective(trial):\n",
    "    # No hay hiperparámetros específicos para ajustar en LinearRegression, pero puedes incluir transformaciones de características si es necesario.\n",
    "    \n",
    "    lr_model = LinearRegression()\n",
    "    lr_model.fit(X_train_scaled, y_train)\n",
    "    y_pred = lr_model.predict(X_test_scaled)\n",
    "    mae = mean_absolute_error(y_test, y_pred)\n",
    "    return mae\n",
    "\n",
    "# Crear un estudio de Optuna\n",
    "study = optuna.create_study(direction='minimize')\n",
    "study.optimize(objective, n_trials=1)  # No hay hiperparámetros para ajustar en LinearRegression, así que solo ejecutamos una vez.\n",
    "\n",
    "# Crear el modelo final con los datos de entrenamiento\n",
    "final_lr_model = LinearRegression()\n",
    "final_lr_model.fit(X_train_scaled, y_train)\n",
    "\n",
    "# Realizar predicciones en el conjunto de prueba\n",
    "y_pred = final_lr_model.predict(X_test_scaled)\n",
    "\n",
    "# Calcular el MAE y R2 con el modelo final\n",
    "mae_final = mean_absolute_error(y_test, y_pred)\n",
    "r2 = r2_score(y_test, y_pred)\n",
    "\n",
    "# Imprimir los resultados\n",
    "print(\"MAE con regresión múltiple:\", mae_final)\n",
    "print(\"R-squared (R2) con regresión múltiple:\", r2)"
   ]
  },
  {
   "cell_type": "markdown",
   "id": "6c1f6432",
   "metadata": {},
   "source": [
    "Se obtiene un valor de r2 alto, pero el valor de Mae es muy alto tambien. "
   ]
  },
  {
   "cell_type": "markdown",
   "id": "d4c7f208",
   "metadata": {},
   "source": [
    "#### 2.3 Regresion lineal multiple con regularizacion de Ridge"
   ]
  },
  {
   "cell_type": "code",
   "execution_count": 15,
   "id": "ed0e83b0",
   "metadata": {},
   "outputs": [
    {
     "name": "stderr",
     "output_type": "stream",
     "text": [
      "[I 2023-11-29 09:30:03,576] A new study created in memory with name: no-name-00139971-2511-44d7-98b6-b2b955a38919\n",
      "[I 2023-11-29 09:30:03,630] Trial 0 finished with value: 557043.6442009459 and parameters: {'alpha': 7.470373983308077}. Best is trial 0 with value: 557043.6442009459.\n",
      "[I 2023-11-29 09:30:03,648] Trial 1 finished with value: 557150.1196842396 and parameters: {'alpha': 3.9729159227563478}. Best is trial 0 with value: 557043.6442009459.\n",
      "[I 2023-11-29 09:30:03,670] Trial 2 finished with value: 557330.111971405 and parameters: {'alpha': 9.718280850802241}. Best is trial 0 with value: 557043.6442009459.\n",
      "[I 2023-11-29 09:30:03,692] Trial 3 finished with value: 557052.9823047817 and parameters: {'alpha': 7.610927915621924}. Best is trial 0 with value: 557043.6442009459.\n",
      "[I 2023-11-29 09:30:03,741] Trial 4 finished with value: 556968.6373637256 and parameters: {'alpha': 5.118802634636344}. Best is trial 4 with value: 556968.6373637256.\n",
      "[I 2023-11-29 09:30:03,766] Trial 5 finished with value: 557516.977240263 and parameters: {'alpha': 2.401591584230353}. Best is trial 4 with value: 556968.6373637256.\n",
      "[I 2023-11-29 09:30:03,785] Trial 6 finished with value: 557163.111445654 and parameters: {'alpha': 3.8961034359637314}. Best is trial 4 with value: 556968.6373637256.\n",
      "[I 2023-11-29 09:30:03,812] Trial 7 finished with value: 558014.7587360078 and parameters: {'alpha': 1.145512105716344}. Best is trial 4 with value: 556968.6373637256.\n",
      "[I 2023-11-29 09:30:03,875] Trial 8 finished with value: 557789.7905722397 and parameters: {'alpha': 1.6558839981023372}. Best is trial 4 with value: 556968.6373637256.\n",
      "[I 2023-11-29 09:30:03,897] Trial 9 finished with value: 557204.0344418406 and parameters: {'alpha': 8.867717994141831}. Best is trial 4 with value: 556968.6373637256.\n",
      "[I 2023-11-29 09:30:03,986] Trial 10 finished with value: 556938.2911166382 and parameters: {'alpha': 5.71272527881848}. Best is trial 10 with value: 556938.2911166382.\n",
      "[I 2023-11-29 09:30:04,062] Trial 11 finished with value: 556941.5884458385 and parameters: {'alpha': 5.7739599316382835}. Best is trial 10 with value: 556938.2911166382.\n",
      "[I 2023-11-29 09:30:04,108] Trial 12 finished with value: 556949.5177804562 and parameters: {'alpha': 5.919134935363779}. Best is trial 10 with value: 556938.2911166382.\n",
      "[I 2023-11-29 09:30:04,173] Trial 13 finished with value: 556973.6161727988 and parameters: {'alpha': 6.3440351304427045}. Best is trial 10 with value: 556938.2911166382.\n",
      "[I 2023-11-29 09:30:04,245] Trial 14 finished with value: 557088.2709303667 and parameters: {'alpha': 4.3453796784072205}. Best is trial 10 with value: 556938.2911166382.\n",
      "[I 2023-11-29 09:30:04,289] Trial 15 finished with value: 558529.2772822063 and parameters: {'alpha': 0.1253106115722078}. Best is trial 10 with value: 556938.2911166382.\n",
      "[I 2023-11-29 09:30:04,338] Trial 16 finished with value: 556945.8532072534 and parameters: {'alpha': 5.852398735607932}. Best is trial 10 with value: 556938.2911166382.\n",
      "[I 2023-11-29 09:30:04,408] Trial 17 finished with value: 557287.7666898665 and parameters: {'alpha': 3.182630694322166}. Best is trial 10 with value: 556938.2911166382.\n",
      "[I 2023-11-29 09:30:04,462] Trial 18 finished with value: 556989.196589302 and parameters: {'alpha': 4.980032000681234}. Best is trial 10 with value: 556938.2911166382.\n",
      "[I 2023-11-29 09:30:04,507] Trial 19 finished with value: 557042.8109697452 and parameters: {'alpha': 7.4577372041718455}. Best is trial 10 with value: 556938.2911166382.\n",
      "[I 2023-11-29 09:30:04,579] Trial 20 finished with value: 556993.104507105 and parameters: {'alpha': 6.672014290646185}. Best is trial 10 with value: 556938.2911166382.\n",
      "[I 2023-11-29 09:30:04,632] Trial 21 finished with value: 556942.7353692638 and parameters: {'alpha': 5.430210631424885}. Best is trial 10 with value: 556938.2911166382.\n",
      "[I 2023-11-29 09:30:04,721] Trial 22 finished with value: 556956.642768276 and parameters: {'alpha': 5.249146049621322}. Best is trial 10 with value: 556938.2911166382.\n",
      "[I 2023-11-29 09:30:04,772] Trial 23 finished with value: 557025.3284080962 and parameters: {'alpha': 4.742094223520404}. Best is trial 10 with value: 556938.2911166382.\n",
      "[I 2023-11-29 09:30:04,857] Trial 24 finished with value: 556939.9237040479 and parameters: {'alpha': 5.587070031914518}. Best is trial 10 with value: 556938.2911166382.\n",
      "[I 2023-11-29 09:30:04,915] Trial 25 finished with value: 556997.8244313373 and parameters: {'alpha': 6.749587734383688}. Best is trial 10 with value: 556938.2911166382.\n",
      "[I 2023-11-29 09:30:04,976] Trial 26 finished with value: 557172.180666291 and parameters: {'alpha': 3.8427676773667767}. Best is trial 10 with value: 556938.2911166382.\n",
      "[I 2023-11-29 09:30:05,078] Trial 27 finished with value: 556943.4838604268 and parameters: {'alpha': 5.808925423195677}. Best is trial 10 with value: 556938.2911166382.\n",
      "[I 2023-11-29 09:30:05,141] Trial 28 finished with value: 557309.7305370525 and parameters: {'alpha': 3.0611131871342354}. Best is trial 10 with value: 556938.2911166382.\n",
      "[I 2023-11-29 09:30:05,195] Trial 29 finished with value: 557038.3846346457 and parameters: {'alpha': 4.657262766765933}. Best is trial 10 with value: 556938.2911166382.\n",
      "[I 2023-11-29 09:30:05,271] Trial 30 finished with value: 557038.3611886502 and parameters: {'alpha': 7.389980191016334}. Best is trial 10 with value: 556938.2911166382.\n",
      "[I 2023-11-29 09:30:05,319] Trial 31 finished with value: 556942.72327831 and parameters: {'alpha': 5.430859397076371}. Best is trial 10 with value: 556938.2911166382.\n",
      "[I 2023-11-29 09:30:05,382] Trial 32 finished with value: 556972.2263252045 and parameters: {'alpha': 6.3201418383225505}. Best is trial 10 with value: 556938.2911166382.\n",
      "[I 2023-11-29 09:30:05,441] Trial 33 finished with value: 556943.2934736906 and parameters: {'alpha': 5.400486237888766}. Best is trial 10 with value: 556938.2911166382.\n",
      "[I 2023-11-29 09:30:05,501] Trial 34 finished with value: 557073.7989314304 and parameters: {'alpha': 4.434203730332765}. Best is trial 10 with value: 556938.2911166382.\n",
      "[I 2023-11-29 09:30:05,657] Trial 35 finished with value: 556941.5699113687 and parameters: {'alpha': 5.773617182943164}. Best is trial 10 with value: 556938.2911166382.\n",
      "[I 2023-11-29 09:30:05,813] Trial 36 finished with value: 557083.1802397453 and parameters: {'alpha': 7.8717272936819}. Best is trial 10 with value: 556938.2911166382.\n",
      "[I 2023-11-29 09:30:05,882] Trial 37 finished with value: 557009.9393919879 and parameters: {'alpha': 6.945650675301719}. Best is trial 10 with value: 556938.2911166382.\n",
      "[I 2023-11-29 09:30:05,969] Trial 38 finished with value: 556964.7721863103 and parameters: {'alpha': 6.1907687067927455}. Best is trial 10 with value: 556938.2911166382.\n",
      "[I 2023-11-29 09:30:06,061] Trial 39 finished with value: 556937.944106248 and parameters: {'alpha': 5.705770823003142}. Best is trial 39 with value: 556937.944106248.\n",
      "[I 2023-11-29 09:30:06,120] Trial 40 finished with value: 557001.7227861441 and parameters: {'alpha': 4.897007760972387}. Best is trial 39 with value: 556937.944106248.\n",
      "[I 2023-11-29 09:30:06,174] Trial 41 finished with value: 556947.3282294893 and parameters: {'alpha': 5.87933315052597}. Best is trial 39 with value: 556937.944106248.\n",
      "[I 2023-11-29 09:30:06,322] Trial 42 finished with value: 556940.1008237085 and parameters: {'alpha': 5.5768075267641315}. Best is trial 39 with value: 556937.944106248.\n",
      "[I 2023-11-29 09:30:06,420] Trial 43 finished with value: 556959.0695631773 and parameters: {'alpha': 5.222615683410554}. Best is trial 39 with value: 556937.944106248.\n",
      "[I 2023-11-29 09:30:06,730] Trial 44 finished with value: 557115.6059448028 and parameters: {'alpha': 4.179356947265176}. Best is trial 39 with value: 556937.944106248.\n",
      "[I 2023-11-29 09:30:07,178] Trial 45 finished with value: 556974.1207259799 and parameters: {'alpha': 6.352691698645066}. Best is trial 39 with value: 556937.944106248.\n",
      "[I 2023-11-29 09:30:07,368] Trial 46 finished with value: 557008.7722989372 and parameters: {'alpha': 4.850534958082103}. Best is trial 39 with value: 556937.944106248.\n",
      "[I 2023-11-29 09:30:07,512] Trial 47 finished with value: 557007.1371752277 and parameters: {'alpha': 6.900679028838059}. Best is trial 39 with value: 556937.944106248.\n",
      "[I 2023-11-29 09:30:07,573] Trial 48 finished with value: 556940.3742386725 and parameters: {'alpha': 5.561072863302906}. Best is trial 39 with value: 556937.944106248.\n",
      "[I 2023-11-29 09:30:07,631] Trial 49 finished with value: 556941.1428253502 and parameters: {'alpha': 5.517515735026131}. Best is trial 39 with value: 556937.944106248.\n",
      "[I 2023-11-29 09:30:07,702] Trial 50 finished with value: 557074.2461758378 and parameters: {'alpha': 4.431448954068622}. Best is trial 39 with value: 556937.944106248.\n",
      "[I 2023-11-29 09:30:07,773] Trial 51 finished with value: 556940.8548129367 and parameters: {'alpha': 5.533723847024132}. Best is trial 39 with value: 556937.944106248.\n",
      "[I 2023-11-29 09:30:07,861] Trial 52 finished with value: 556969.0130984505 and parameters: {'alpha': 5.1150325202217015}. Best is trial 39 with value: 556937.944106248.\n",
      "[I 2023-11-29 09:30:07,936] Trial 53 finished with value: 556959.1039893023 and parameters: {'alpha': 6.09095375753067}. Best is trial 39 with value: 556937.944106248.\n",
      "[I 2023-11-29 09:30:08,025] Trial 54 finished with value: 556939.1267275594 and parameters: {'alpha': 5.728293007215511}. Best is trial 39 with value: 556937.944106248.\n",
      "[I 2023-11-29 09:30:08,121] Trial 55 finished with value: 556966.3363026556 and parameters: {'alpha': 6.21809004982472}. Best is trial 39 with value: 556937.944106248.\n",
      "[I 2023-11-29 09:30:08,213] Trial 56 finished with value: 556985.327909732 and parameters: {'alpha': 5.005790563410367}. Best is trial 39 with value: 556937.944106248.\n",
      "[I 2023-11-29 09:30:08,347] Trial 57 finished with value: 556939.4491826865 and parameters: {'alpha': 5.734291395365059}. Best is trial 39 with value: 556937.944106248.\n",
      "[I 2023-11-29 09:30:08,479] Trial 58 finished with value: 556943.6909845786 and parameters: {'alpha': 5.812736133518309}. Best is trial 39 with value: 556937.944106248.\n",
      "[I 2023-11-29 09:30:08,684] Trial 59 finished with value: 556982.9949754404 and parameters: {'alpha': 6.503475272611872}. Best is trial 39 with value: 556937.944106248.\n",
      "[I 2023-11-29 09:30:08,875] Trial 60 finished with value: 556993.6494956005 and parameters: {'alpha': 6.6810066537607975}. Best is trial 39 with value: 556937.944106248.\n",
      "[I 2023-11-29 09:30:08,952] Trial 61 finished with value: 556939.8240889579 and parameters: {'alpha': 5.592866233509045}. Best is trial 39 with value: 556937.944106248.\n",
      "[I 2023-11-29 09:30:09,019] Trial 62 finished with value: 556958.4347949623 and parameters: {'alpha': 6.0790843739775315}. Best is trial 39 with value: 556937.944106248.\n",
      "[I 2023-11-29 09:30:09,107] Trial 63 finished with value: 556971.9713099089 and parameters: {'alpha': 5.095150497628909}. Best is trial 39 with value: 556937.944106248.\n",
      "[I 2023-11-29 09:30:09,174] Trial 64 finished with value: 557031.0663307317 and parameters: {'alpha': 4.704738872301714}. Best is trial 39 with value: 556937.944106248.\n",
      "[I 2023-11-29 09:30:09,273] Trial 65 finished with value: 556939.7540778636 and parameters: {'alpha': 5.596950513447046}. Best is trial 39 with value: 556937.944106248.\n",
      "[I 2023-11-29 09:30:09,368] Trial 66 finished with value: 556955.0865627708 and parameters: {'alpha': 6.019420124134803}. Best is trial 39 with value: 556937.944106248.\n",
      "[I 2023-11-29 09:30:09,636] Trial 67 finished with value: 556948.5974535561 and parameters: {'alpha': 5.337687316844649}. Best is trial 39 with value: 556937.944106248.\n",
      "[I 2023-11-29 09:30:09,870] Trial 68 finished with value: 556977.055298814 and parameters: {'alpha': 6.40285882534233}. Best is trial 39 with value: 556937.944106248.\n",
      "[I 2023-11-29 09:30:09,913] Trial 69 finished with value: 556939.5191111147 and parameters: {'alpha': 5.735591557269877}. Best is trial 39 with value: 556937.944106248.\n",
      "[I 2023-11-29 09:30:09,959] Trial 70 finished with value: 556961.1331876861 and parameters: {'alpha': 5.200119426119501}. Best is trial 39 with value: 556937.944106248.\n",
      "[I 2023-11-29 09:30:09,987] Trial 71 finished with value: 556940.6226885625 and parameters: {'alpha': 5.756078922993791}. Best is trial 39 with value: 556937.944106248.\n",
      "[I 2023-11-29 09:30:10,029] Trial 72 finished with value: 556952.5554883172 and parameters: {'alpha': 5.974004923784865}. Best is trial 39 with value: 556937.944106248.\n",
      "[I 2023-11-29 09:30:10,049] Trial 73 finished with value: 556939.6672860695 and parameters: {'alpha': 5.602025996616973}. Best is trial 39 with value: 556937.944106248.\n",
      "[I 2023-11-29 09:30:10,067] Trial 74 finished with value: 557036.5499168477 and parameters: {'alpha': 4.669147543537817}. Best is trial 39 with value: 556937.944106248.\n",
      "[I 2023-11-29 09:30:10,086] Trial 75 finished with value: 556986.4605302799 and parameters: {'alpha': 6.561626911449709}. Best is trial 39 with value: 556937.944106248.\n",
      "[I 2023-11-29 09:30:10,118] Trial 76 finished with value: 556945.2586799493 and parameters: {'alpha': 5.374700484093148}. Best is trial 39 with value: 556937.944106248.\n",
      "[I 2023-11-29 09:30:10,136] Trial 77 finished with value: 556942.8947906413 and parameters: {'alpha': 5.798076667557184}. Best is trial 39 with value: 556937.944106248.\n",
      "[I 2023-11-29 09:30:10,153] Trial 78 finished with value: 556965.3527764519 and parameters: {'alpha': 6.200921245506105}. Best is trial 39 with value: 556937.944106248.\n",
      "[I 2023-11-29 09:30:10,170] Trial 79 finished with value: 557016.334306726 and parameters: {'alpha': 7.047461736343134}. Best is trial 39 with value: 556937.944106248.\n",
      "[I 2023-11-29 09:30:10,189] Trial 80 finished with value: 556989.9107975971 and parameters: {'alpha': 4.975282690836704}. Best is trial 39 with value: 556937.944106248.\n",
      "[I 2023-11-29 09:30:10,217] Trial 81 finished with value: 556939.1532540619 and parameters: {'alpha': 5.728786649670918}. Best is trial 39 with value: 556937.944106248.\n",
      "[I 2023-11-29 09:30:10,236] Trial 82 finished with value: 556938.6465776259 and parameters: {'alpha': 5.6627706781264715}. Best is trial 39 with value: 556937.944106248.\n",
      "[I 2023-11-29 09:30:10,256] Trial 83 finished with value: 556978.5364324788 and parameters: {'alpha': 6.4280632387017835}. Best is trial 39 with value: 556937.944106248.\n",
      "[I 2023-11-29 09:30:10,274] Trial 84 finished with value: 556957.3486124012 and parameters: {'alpha': 5.241421174707334}. Best is trial 39 with value: 556937.944106248.\n",
      "[I 2023-11-29 09:30:10,298] Trial 85 finished with value: 556954.6175954825 and parameters: {'alpha': 6.011025940311724}. Best is trial 39 with value: 556937.944106248.\n",
      "[I 2023-11-29 09:30:10,316] Trial 86 finished with value: 556938.7896074352 and parameters: {'alpha': 5.654138038248105}. Best is trial 39 with value: 556937.944106248.\n",
      "[I 2023-11-29 09:30:10,334] Trial 87 finished with value: 556940.4998224895 and parameters: {'alpha': 5.753800866833463}. Best is trial 39 with value: 556937.944106248.\n",
      "[I 2023-11-29 09:30:10,352] Trial 88 finished with value: 557001.7656145405 and parameters: {'alpha': 4.896724876878385}. Best is trial 39 with value: 556937.944106248.\n",
      "[I 2023-11-29 09:30:10,372] Trial 89 finished with value: 556959.9354871867 and parameters: {'alpha': 6.1056765170836425}. Best is trial 39 with value: 556937.944106248.\n",
      "[I 2023-11-29 09:30:10,391] Trial 90 finished with value: 556949.0084185178 and parameters: {'alpha': 5.3331424046703235}. Best is trial 39 with value: 556937.944106248.\n",
      "[I 2023-11-29 09:30:10,414] Trial 91 finished with value: 556937.9732760286 and parameters: {'alpha': 5.7039648260047535}. Best is trial 39 with value: 556937.944106248.\n",
      "[I 2023-11-29 09:30:10,433] Trial 92 finished with value: 556938.1651344919 and parameters: {'alpha': 5.692131052264208}. Best is trial 39 with value: 556937.944106248.\n",
      "[I 2023-11-29 09:30:10,452] Trial 93 finished with value: 556950.3295012283 and parameters: {'alpha': 5.933836452893082}. Best is trial 39 with value: 556937.944106248.\n",
      "[I 2023-11-29 09:30:10,484] Trial 94 finished with value: 556968.841391539 and parameters: {'alpha': 6.261652858956178}. Best is trial 39 with value: 556937.944106248.\n",
      "[I 2023-11-29 09:30:10,503] Trial 95 finished with value: 556956.8119508593 and parameters: {'alpha': 5.2472938581920525}. Best is trial 39 with value: 556937.944106248.\n",
      "[I 2023-11-29 09:30:10,522] Trial 96 finished with value: 556937.9554410989 and parameters: {'alpha': 5.706461934966604}. Best is trial 39 with value: 556937.944106248.\n",
      "[I 2023-11-29 09:30:10,540] Trial 97 finished with value: 556970.792551944 and parameters: {'alpha': 5.103068921094185}. Best is trial 39 with value: 556937.944106248.\n",
      "[I 2023-11-29 09:30:10,563] Trial 98 finished with value: 556984.4745636305 and parameters: {'alpha': 6.528351633388816}. Best is trial 39 with value: 556937.944106248.\n",
      "[I 2023-11-29 09:30:10,585] Trial 99 finished with value: 556942.1450062151 and parameters: {'alpha': 5.4621327643950375}. Best is trial 39 with value: 556937.944106248.\n"
     ]
    },
    {
     "name": "stdout",
     "output_type": "stream",
     "text": [
      "Mejores hiperparámetros: {'alpha': 5.705770823003142}\n",
      "MAE con regresión Ridge: 556937.944106248\n",
      "R-squared (R2) con regresión Ridge: 0.9084614180441314\n"
     ]
    }
   ],
   "source": [
    "\n",
    "import optuna\n",
    "import pandas as pd\n",
    "from sklearn.linear_model import Ridge\n",
    "from sklearn.preprocessing import StandardScaler\n",
    "from sklearn.model_selection import train_test_split\n",
    "from sklearn.metrics import mean_absolute_error, r2_score\n",
    "\n",
    "\n",
    "# La función objetivo para la optimización de Optuna\n",
    "def objective(trial):\n",
    "    alpha = trial.suggest_float('alpha', 0.01, 10.0)  # Hiperparámetro de regularización\n",
    "    \n",
    "    ridge_model = Ridge(alpha=alpha)\n",
    "    ridge_model.fit(X_train_scaled, y_train)\n",
    "    y_pred = ridge_model.predict(X_test_scaled)\n",
    "    mae = mean_absolute_error(y_test, y_pred)\n",
    "    return mae\n",
    "\n",
    "# Crear un estudio de Optuna\n",
    "study = optuna.create_study(direction='minimize')\n",
    "study.optimize(objective, n_trials=100)\n",
    "\n",
    "# Obtener los mejores hiperparámetros\n",
    "best_params = study.best_params\n",
    "\n",
    "# Crear el modelo final con los mejores hiperparámetros\n",
    "final_ridge_model = Ridge(**best_params)\n",
    "final_ridge_model.fit(X_train_scaled, y_train)\n",
    "y_pred = final_ridge_model.predict(X_test_scaled)\n",
    "\n",
    "# Calcular el MAE y R2 con el modelo final\n",
    "mae_final = mean_absolute_error(y_test, y_pred)\n",
    "r2 = r2_score(y_test, y_pred)\n",
    "\n",
    "# Imprimir los resultados\n",
    "print(\"Mejores hiperparámetros:\", best_params)\n",
    "print(\"MAE con regresión Ridge:\", mae_final)\n",
    "print(\"R-squared (R2) con regresión Ridge:\", r2)"
   ]
  },
  {
   "cell_type": "markdown",
   "id": "d9096f83",
   "metadata": {},
   "source": [
    "#### 2.4 XGBRegressor"
   ]
  },
  {
   "cell_type": "code",
   "execution_count": 17,
   "id": "ccdd9445",
   "metadata": {},
   "outputs": [
    {
     "name": "stderr",
     "output_type": "stream",
     "text": [
      "[I 2023-11-29 09:30:10,921] A new study created in memory with name: no-name-af2632ff-5f9b-491b-b094-fb72b4fc1460\n",
      "[I 2023-11-29 09:30:17,521] Trial 0 finished with value: 415051.61124596227 and parameters: {'n_estimators': 1321, 'max_depth': 6, 'learning_rate': 0.07967296031447207}. Best is trial 0 with value: 415051.61124596227.\n",
      "[I 2023-11-29 09:30:23,799] Trial 1 finished with value: 529399.7860999474 and parameters: {'n_estimators': 1424, 'max_depth': 9, 'learning_rate': 0.07344364186412311}. Best is trial 0 with value: 415051.61124596227.\n",
      "[I 2023-11-29 09:32:06,836] Trial 26 finished with value: 423807.22845458984 and parameters: {'n_estimators': 1845, 'max_depth': 6, 'learning_rate': 0.1970658807649161}. Best is trial 18 with value: 335695.38763207657.\n",
      "[I 2023-11-29 09:32:11,249] Trial 27 finished with value: 337405.67396457377 and parameters: {'n_estimators': 1585, 'max_depth': 3, 'learning_rate': 0.15124863873934977}. Best is trial 18 with value: 335695.38763207657.\n",
      "[I 2023-11-29 09:32:16,161] Trial 28 finished with value: 408789.9130319449 and parameters: {'n_estimators': 1587, 'max_depth': 5, 'learning_rate': 0.15360875743154986}. Best is trial 18 with value: 335695.38763207657.\n",
      "[I 2023-11-29 09:32:20,320] Trial 29 finished with value: 415937.9145239316 and parameters: {'n_estimators': 1238, 'max_depth': 6, 'learning_rate': 0.1876549443412592}. Best is trial 18 with value: 335695.38763207657.\n",
      "[I 2023-11-29 09:32:24,126] Trial 30 finished with value: 384951.6317038903 and parameters: {'n_estimators': 1337, 'max_depth': 4, 'learning_rate': 0.2220672106557169}. Best is trial 18 with value: 335695.38763207657.\n",
      "[I 2023-11-29 09:32:29,809] Trial 31 finished with value: 370348.2722520095 and parameters: {'n_estimators': 1677, 'max_depth': 3, 'learning_rate': 0.12916281785046363}. Best is trial 18 with value: 335695.38763207657.\n",
      "[I 2023-11-29 09:32:34,615] Trial 32 finished with value: 341381.2433542105 and parameters: {'n_estimators': 1842, 'max_depth': 3, 'learning_rate': 0.1138886735805925}. Best is trial 18 with value: 335695.38763207657.\n",
      "[I 2023-11-29 09:32:39,797] Trial 33 finished with value: 367984.3203970102 and parameters: {'n_estimators': 1847, 'max_depth': 4, 'learning_rate': 0.1090171947091528}. Best is trial 18 with value: 335695.38763207657.\n",
      "[I 2023-11-29 09:32:44,258] Trial 34 finished with value: 324979.75227942836 and parameters: {'n_estimators': 1426, 'max_depth': 3, 'learning_rate': 0.15316252993902427}. Best is trial 34 with value: 324979.75227942836.\n",
      "[I 2023-11-29 09:32:48,912] Trial 35 finished with value: 343628.99737284734 and parameters: {'n_estimators': 1402, 'max_depth': 4, 'learning_rate': 0.14894234891902922}. Best is trial 34 with value: 324979.75227942836.\n",
      "[I 2023-11-29 09:32:53,235] Trial 36 finished with value: 333739.99079073395 and parameters: {'n_estimators': 1479, 'max_depth': 3, 'learning_rate': 0.1550712350079339}. Best is trial 34 with value: 324979.75227942836.\n",
      "[I 2023-11-29 09:32:56,958] Trial 37 finished with value: 350668.84239783656 and parameters: {'n_estimators': 1198, 'max_depth': 4, 'learning_rate': 0.17565815117494077}. Best is trial 34 with value: 324979.75227942836.\n",
      "[I 2023-11-29 09:33:00,930] Trial 38 finished with value: 341698.26779174805 and parameters: {'n_estimators': 1483, 'max_depth': 3, 'learning_rate': 0.13835820984408626}. Best is trial 34 with value: 324979.75227942836.\n",
      "[I 2023-11-29 09:33:04,636] Trial 39 finished with value: 412643.94866268453 and parameters: {'n_estimators': 1111, 'max_depth': 5, 'learning_rate': 0.16048206559055975}. Best is trial 34 with value: 324979.75227942836.\n",
      "[I 2023-11-29 09:33:10,205] Trial 40 finished with value: 432803.05225196254 and parameters: {'n_estimators': 1420, 'max_depth': 7, 'learning_rate': 0.2074801583465149}. Best is trial 34 with value: 324979.75227942836.\n",
      "[I 2023-11-29 09:33:14,865] Trial 41 finished with value: 328860.0618074857 and parameters: {'n_estimators': 1624, 'max_depth': 3, 'learning_rate': 0.15375066296419856}. Best is trial 34 with value: 324979.75227942836.\n",
      "[I 2023-11-29 09:33:19,703] Trial 42 finished with value: 340111.8864980844 and parameters: {'n_estimators': 1720, 'max_depth': 3, 'learning_rate': 0.1828136682865532}. Best is trial 34 with value: 324979.75227942836.\n",
      "[I 2023-11-29 09:33:24,287] Trial 43 finished with value: 340173.61017770035 and parameters: {'n_estimators': 1623, 'max_depth': 3, 'learning_rate': 0.16310712842761596}. Best is trial 34 with value: 324979.75227942836.\n",
      "[I 2023-11-29 09:33:31,642] Trial 44 finished with value: 510366.01361318736 and parameters: {'n_estimators': 1494, 'max_depth': 10, 'learning_rate': 0.14102782911043962}. Best is trial 34 with value: 324979.75227942836.\n",
      "[I 2023-11-29 09:33:35,502] Trial 45 finished with value: 376694.44150954025 and parameters: {'n_estimators': 1286, 'max_depth': 4, 'learning_rate': 0.19087197470039907}. Best is trial 34 with value: 324979.75227942836.\n",
      "[I 2023-11-29 09:33:44,094] Trial 46 finished with value: 503026.22240741435 and parameters: {'n_estimators': 1891, 'max_depth': 9, 'learning_rate': 0.18015349943404602}. Best is trial 34 with value: 324979.75227942836.\n",
      "[I 2023-11-29 09:33:48,026] Trial 47 finished with value: 360206.82763906626 and parameters: {'n_estimators': 1393, 'max_depth': 3, 'learning_rate': 0.10543561169137577}. Best is trial 34 with value: 324979.75227942836.\n",
      "[I 2023-11-29 09:33:52,181] Trial 48 finished with value: 344626.41143916204 and parameters: {'n_estimators': 1656, 'max_depth': 3, 'learning_rate': 0.1374423825852865}. Best is trial 34 with value: 324979.75227942836.\n",
      "[I 2023-11-29 09:33:57,485] Trial 49 finished with value: 338610.1849341759 and parameters: {'n_estimators': 1779, 'max_depth': 4, 'learning_rate': 0.15384850986054538}. Best is trial 34 with value: 324979.75227942836.\n",
      "[I 2023-11-29 09:34:01,461] Trial 50 finished with value: 363898.1510209304 and parameters: {'n_estimators': 1481, 'max_depth': 3, 'learning_rate': 0.20088678025008494}. Best is trial 34 with value: 324979.75227942836.\n",
      "[I 2023-11-29 09:34:05,606] Trial 51 finished with value: 332799.1177749634 and parameters: {'n_estimators': 1555, 'max_depth': 3, 'learning_rate': 0.1491318649986132}. Best is trial 34 with value: 324979.75227942836.\n",
      "[I 2023-11-29 09:34:09,365] Trial 52 finished with value: 341008.1203055015 and parameters: {'n_estimators': 1542, 'max_depth': 3, 'learning_rate': 0.1693785749500717}. Best is trial 34 with value: 324979.75227942836.\n",
      "[I 2023-11-29 09:34:14,920] Trial 53 finished with value: 342393.753248068 and parameters: {'n_estimators': 1693, 'max_depth': 4, 'learning_rate': 0.16105256710946553}. Best is trial 34 with value: 324979.75227942836.\n",
      "[I 2023-11-29 09:34:18,539] Trial 54 finished with value: 351167.9750483586 and parameters: {'n_estimators': 1339, 'max_depth': 3, 'learning_rate': 0.13422268940087456}. Best is trial 34 with value: 324979.75227942836.\n",
      "[I 2023-11-29 09:34:23,344] Trial 55 finished with value: 352448.687690148 and parameters: {'n_estimators': 1761, 'max_depth': 3, 'learning_rate': 0.1457122335218046}. Best is trial 34 with value: 324979.75227942836.\n",
      "[I 2023-11-29 09:34:27,988] Trial 56 finished with value: 348919.55683135986 and parameters: {'n_estimators': 1564, 'max_depth': 4, 'learning_rate': 0.18192029344703214}. Best is trial 34 with value: 324979.75227942836.\n",
      "[I 2023-11-29 09:34:33,504] Trial 57 finished with value: 323120.7752808791 and parameters: {'n_estimators': 1902, 'max_depth': 3, 'learning_rate': 0.167144914045639}. Best is trial 57 with value: 323120.7752808791.\n",
      "[I 2023-11-29 09:34:39,466] Trial 58 finished with value: 377219.91790111247 and parameters: {'n_estimators': 1938, 'max_depth': 4, 'learning_rate': 0.17160231396588}. Best is trial 57 with value: 323120.7752808791.\n",
      "[I 2023-11-29 09:34:42,599] Trial 59 finished with value: 340141.13979398285 and parameters: {'n_estimators': 1111, 'max_depth': 3, 'learning_rate': 0.1492460759573233}. Best is trial 57 with value: 323120.7752808791.\n",
      "[I 2023-11-29 09:34:44,146] Trial 60 finished with value: 418193.12877390935 and parameters: {'n_estimators': 404, 'max_depth': 5, 'learning_rate': 0.19289702948396617}. Best is trial 57 with value: 323120.7752808791.\n",
      "[I 2023-11-29 09:34:48,891] Trial 61 finished with value: 343271.61428363505 and parameters: {'n_estimators': 1820, 'max_depth': 3, 'learning_rate': 0.16377401046250603}. Best is trial 57 with value: 323120.7752808791.\n",
      "[I 2023-11-29 09:34:53,566] Trial 62 finished with value: 333011.55307006836 and parameters: {'n_estimators': 1651, 'max_depth': 3, 'learning_rate': 0.15769470783812373}. Best is trial 57 with value: 323120.7752808791.\n",
      "[I 2023-11-29 09:34:58,780] Trial 63 finished with value: 345988.6212331332 and parameters: {'n_estimators': 1652, 'max_depth': 3, 'learning_rate': 0.1327295464821724}. Best is trial 57 with value: 323120.7752808791.\n",
      "[I 2023-11-29 09:35:03,348] Trial 64 finished with value: 345773.2201772836 and parameters: {'n_estimators': 1511, 'max_depth': 4, 'learning_rate': 0.1753494895944124}. Best is trial 57 with value: 323120.7752808791.\n",
      "[I 2023-11-29 09:35:07,283] Trial 65 finished with value: 349109.65835453913 and parameters: {'n_estimators': 1440, 'max_depth': 3, 'learning_rate': 0.1448874844749245}. Best is trial 57 with value: 323120.7752808791.\n",
      "[I 2023-11-29 09:35:12,777] Trial 66 finished with value: 325717.9829054612 and parameters: {'n_estimators': 2000, 'max_depth': 3, 'learning_rate': 0.15260089037501418}. Best is trial 57 with value: 323120.7752808791.\n",
      "[I 2023-11-29 09:35:18,319] Trial 67 finished with value: 338167.7831001282 and parameters: {'n_estimators': 1988, 'max_depth': 3, 'learning_rate': 0.12227161356561973}. Best is trial 57 with value: 323120.7752808791.\n",
      "[I 2023-11-29 09:35:26,440] Trial 68 finished with value: 446002.3693072979 and parameters: {'n_estimators': 1914, 'max_depth': 8, 'learning_rate': 0.1542491844762781}. Best is trial 57 with value: 323120.7752808791.\n",
      "[I 2023-11-29 09:35:31,774] Trial 69 finished with value: 367885.4648167537 and parameters: {'n_estimators': 1802, 'max_depth': 4, 'learning_rate': 0.14077131603424295}. Best is trial 57 with value: 323120.7752808791.\n",
      "[I 2023-11-29 09:35:36,911] Trial 70 finished with value: 345162.83911602315 and parameters: {'n_estimators': 1898, 'max_depth': 3, 'learning_rate': 0.1305554651322893}. Best is trial 57 with value: 323120.7752808791.\n",
      "[I 2023-11-29 09:35:41,474] Trial 71 finished with value: 324460.3798405574 and parameters: {'n_estimators': 1715, 'max_depth': 3, 'learning_rate': 0.15519749424014515}. Best is trial 57 with value: 323120.7752808791.\n",
      "[I 2023-11-29 09:35:46,104] Trial 72 finished with value: 331222.2507043985 and parameters: {'n_estimators': 1728, 'max_depth': 3, 'learning_rate': 0.1554392407796684}. Best is trial 57 with value: 323120.7752808791.\n",
      "[I 2023-11-29 09:35:50,816] Trial 73 finished with value: 326287.095130627 and parameters: {'n_estimators': 1736, 'max_depth': 3, 'learning_rate': 0.1691253769924548}. Best is trial 57 with value: 323120.7752808791.\n",
      "[I 2023-11-29 09:35:55,449] Trial 74 finished with value: 327557.2075281143 and parameters: {'n_estimators': 1733, 'max_depth': 3, 'learning_rate': 0.16768169010517783}. Best is trial 57 with value: 323120.7752808791.\n",
      "[I 2023-11-29 09:36:00,064] Trial 75 finished with value: 326314.3564153818 and parameters: {'n_estimators': 1728, 'max_depth': 3, 'learning_rate': 0.16969792310288526}. Best is trial 57 with value: 323120.7752808791.\n",
      "[I 2023-11-29 09:36:08,874] Trial 76 finished with value: 349609.6667574369 and parameters: {'n_estimators': 1957, 'max_depth': 4, 'learning_rate': 0.18168391124811653}. Best is trial 57 with value: 323120.7752808791.\n",
      "[I 2023-11-29 09:36:14,627] Trial 77 finished with value: 313252.1662938045 and parameters: {'n_estimators': 1721, 'max_depth': 3, 'learning_rate': 0.1670753729359835}. Best is trial 77 with value: 313252.1662938045.\n",
      "[I 2023-11-29 09:36:20,381] Trial 78 finished with value: 327105.7693469708 and parameters: {'n_estimators': 1882, 'max_depth': 3, 'learning_rate': 0.1691868034801972}. Best is trial 77 with value: 313252.1662938045.\n",
      "[I 2023-11-29 09:36:26,982] Trial 79 finished with value: 379479.41806030273 and parameters: {'n_estimators': 1883, 'max_depth': 4, 'learning_rate': 0.1891943982325164}. Best is trial 77 with value: 313252.1662938045.\n",
      "[I 2023-11-29 09:36:34,590] Trial 80 finished with value: 335139.9714261569 and parameters: {'n_estimators': 1798, 'max_depth': 3, 'learning_rate': 0.17301198580931093}. Best is trial 77 with value: 313252.1662938045.\n",
      "[I 2023-11-29 09:36:55,878] Trial 81 finished with value: 323008.87130121083 and parameters: {'n_estimators': 1739, 'max_depth': 3, 'learning_rate': 0.168018984286594}. Best is trial 77 with value: 313252.1662938045.\n",
      "[I 2023-11-29 09:37:06,009] Trial 82 finished with value: 346091.51054969203 and parameters: {'n_estimators': 1856, 'max_depth': 3, 'learning_rate': 0.1780142325908085}. Best is trial 77 with value: 313252.1662938045.\n",
      "[I 2023-11-29 09:37:22,650] Trial 83 finished with value: 333267.561825092 and parameters: {'n_estimators': 1964, 'max_depth': 3, 'learning_rate': 0.16625750555813454}. Best is trial 77 with value: 313252.1662938045.\n",
      "[I 2023-11-29 09:37:27,257] Trial 84 finished with value: 353426.91069353546 and parameters: {'n_estimators': 1710, 'max_depth': 3, 'learning_rate': 0.1856100743555381}. Best is trial 77 with value: 313252.1662938045.\n",
      "[I 2023-11-29 09:37:32,776] Trial 85 finished with value: 380490.0623380221 and parameters: {'n_estimators': 1802, 'max_depth': 4, 'learning_rate': 0.17196760535124075}. Best is trial 77 with value: 313252.1662938045.\n",
      "[I 2023-11-29 09:37:35,668] Trial 86 finished with value: 336689.0483562763 and parameters: {'n_estimators': 880, 'max_depth': 3, 'learning_rate': 0.16752121903612585}. Best is trial 77 with value: 313252.1662938045.\n",
      "[I 2023-11-29 09:37:41,275] Trial 87 finished with value: 361820.1301175631 and parameters: {'n_estimators': 2000, 'max_depth': 3, 'learning_rate': 0.20087112051780776}. Best is trial 77 with value: 313252.1662938045.\n",
      "[I 2023-11-29 09:37:46,607] Trial 88 finished with value: 346576.54771775467 and parameters: {'n_estimators': 1916, 'max_depth': 3, 'learning_rate': 0.1599588128489331}. Best is trial 77 with value: 313252.1662938045.\n",
      "[I 2023-11-29 09:37:52,332] Trial 89 finished with value: 381562.2274404672 and parameters: {'n_estimators': 1860, 'max_depth': 4, 'learning_rate': 0.17865308688501816}. Best is trial 77 with value: 313252.1662938045.\n",
      "[I 2023-11-29 09:37:57,753] Trial 90 finished with value: 346919.38588421163 and parameters: {'n_estimators': 1616, 'max_depth': 3, 'learning_rate': 0.14491486270813897}. Best is trial 77 with value: 313252.1662938045.\n",
      "[I 2023-11-29 09:38:03,011] Trial 91 finished with value: 336225.9776716966 and parameters: {'n_estimators': 1757, 'max_depth': 3, 'learning_rate': 0.1643669843190332}. Best is trial 77 with value: 313252.1662938045.\n",
      "[I 2023-11-29 09:38:07,923] Trial 92 finished with value: 324983.09648264374 and parameters: {'n_estimators': 1739, 'max_depth': 3, 'learning_rate': 0.16994650497582198}. Best is trial 77 with value: 313252.1662938045.\n",
      "[I 2023-11-29 09:38:12,613] Trial 93 finished with value: 367469.00807938207 and parameters: {'n_estimators': 1689, 'max_depth': 3, 'learning_rate': 0.1863673780925454}. Best is trial 77 with value: 313252.1662938045.\n",
      "[I 2023-11-29 09:38:17,563] Trial 94 finished with value: 352378.4423980713 and parameters: {'n_estimators': 1766, 'max_depth': 3, 'learning_rate': 0.19621472581493166}. Best is trial 77 with value: 313252.1662938045.\n",
      "[I 2023-11-29 09:38:22,664] Trial 95 finished with value: 333878.1325777494 and parameters: {'n_estimators': 1832, 'max_depth': 3, 'learning_rate': 0.15734567688840947}. Best is trial 77 with value: 313252.1662938045.\n",
      "[I 2023-11-29 09:38:24,773] Trial 96 finished with value: 378612.8771444467 and parameters: {'n_estimators': 661, 'max_depth': 4, 'learning_rate': 0.17647395557430587}. Best is trial 77 with value: 313252.1662938045.\n",
      "[I 2023-11-29 09:38:30,129] Trial 97 finished with value: 347132.75869189773 and parameters: {'n_estimators': 1931, 'max_depth': 3, 'learning_rate': 0.14735003958368578}. Best is trial 77 with value: 313252.1662938045.\n",
      "[I 2023-11-29 09:38:36,360] Trial 98 finished with value: 473537.01683044434 and parameters: {'n_estimators': 1596, 'max_depth': 7, 'learning_rate': 0.16987097732428308}. Best is trial 77 with value: 313252.1662938045.\n",
      "[I 2023-11-29 09:38:41,208] Trial 99 finished with value: 339490.6057856633 and parameters: {'n_estimators': 1727, 'max_depth': 3, 'learning_rate': 0.1415101292991056}. Best is trial 77 with value: 313252.1662938045.\n"
     ]
    },
    {
     "name": "stdout",
     "output_type": "stream",
     "text": [
      "Mejores hiperparámetros: {'n_estimators': 1721, 'max_depth': 3, 'learning_rate': 0.1670753729359835}\n",
      "MAE con los mejores hiperparámetros: 313252.1662938045\n",
      "R-squared (R2): 0.9702880042420655\n"
     ]
    }
   ],
   "source": [
    "def objective(trial):\n",
    "    param = {\n",
    "        'n_estimators': trial.suggest_int('n_estimators', 100, 2000),\n",
    "        'max_depth': trial.suggest_int('max_depth', 3, 10),\n",
    "        'learning_rate': trial.suggest_float('learning_rate', 0.01, 0.3)\n",
    "    }\n",
    "    \n",
    "    xgb_model = XGBRegressor(**param)\n",
    "    xgb_model.fit(X_train, y_train)\n",
    "    y_pred = xgb_model.predict(X_test)\n",
    "    mae = mean_absolute_error(y_test, y_pred)\n",
    "    return mae\n",
    "\n",
    "# Crear un estudio de Optuna\n",
    "study = optuna.create_study(direction='minimize')\n",
    "study.optimize(objective, n_trials=100)\n",
    "\n",
    "# Obtener los mejores hiperparámetros\n",
    "best_params = study.best_params\n",
    "\n",
    "# Crear el modelo final con los mejores hiperparámetros\n",
    "final_xgb_model = XGBRegressor(**best_params)\n",
    "best_model = final_xgb_model.fit(X_train, y_train)\n",
    "y_pred = final_xgb_model.predict(X_test)\n",
    "\n",
    "# Calcular el MAE con el modelo final\n",
    "mae_final = mean_absolute_error(y_test, y_pred)\n",
    "r2 = r2_score(y_test, y_pred)\n",
    "\n",
    "# Imprimir los resultados\n",
    "\n",
    "\n",
    "\n",
    "# Imprimir los resultados\n",
    "print(\"Mejores hiperparámetros:\", best_params)\n",
    "print(\"MAE con los mejores hiperparámetros:\", mae_final)\n",
    "print(\"R-squared (R2):\", r2)\n"
   ]
  },
  {
   "cell_type": "markdown",
   "id": "555d5711",
   "metadata": {},
   "source": [
    "#### 2.4 XGBRegressor con cross validation"
   ]
  },
  {
   "cell_type": "code",
   "execution_count": null,
   "id": "197b194d",
   "metadata": {},
   "outputs": [
    {
     "name": "stderr",
     "output_type": "stream",
     "text": [
      "[I 2023-11-29 09:38:46,103] A new study created in memory with name: no-name-7a642996-065e-4b64-a68f-3154436c1f02\n",
      "[I 2023-11-29 09:38:52,498] Trial 0 finished with value: 349533.9717930937 and parameters: {'n_estimators': 190, 'max_depth': 7, 'learning_rate': 0.1050767851538787}. Best is trial 0 with value: 349533.9717930937.\n",
      "[I 2023-11-29 09:39:11,177] Trial 1 finished with value: 315239.2507687493 and parameters: {'n_estimators': 1331, 'max_depth': 6, 'learning_rate': 0.23316021180747007}. Best is trial 1 with value: 315239.2507687493.\n",
      "[I 2023-11-29 09:39:25,406] Trial 2 finished with value: 291651.77189811703 and parameters: {'n_estimators': 502, 'max_depth': 4, 'learning_rate': 0.17730725876946948}. Best is trial 2 with value: 291651.77189811703.\n",
      "[I 2023-11-29 09:39:33,222] Trial 3 finished with value: 323693.99826420087 and parameters: {'n_estimators': 266, 'max_depth': 5, 'learning_rate': 0.1923348792263281}. Best is trial 2 with value: 291651.77189811703.\n",
      "[I 2023-11-29 09:40:05,757] Trial 4 finished with value: 368490.6399870472 and parameters: {'n_estimators': 1088, 'max_depth': 10, 'learning_rate': 0.10875660945139487}. Best is trial 2 with value: 291651.77189811703.\n",
      "[I 2023-11-29 09:40:35,556] Trial 5 finished with value: 329043.02138305816 and parameters: {'n_estimators': 1005, 'max_depth': 7, 'learning_rate': 0.0903533442365687}. Best is trial 2 with value: 291651.77189811703.\n",
      "[I 2023-11-29 09:41:01,420] Trial 6 finished with value: 301602.2932262725 and parameters: {'n_estimators': 963, 'max_depth': 5, 'learning_rate': 0.09563696268315458}. Best is trial 2 with value: 291651.77189811703.\n",
      "[I 2023-11-29 09:41:38,604] Trial 7 finished with value: 319082.0277954958 and parameters: {'n_estimators': 1227, 'max_depth': 6, 'learning_rate': 0.03015728203655016}. Best is trial 2 with value: 291651.77189811703.\n",
      "[I 2023-11-29 09:42:13,449] Trial 8 finished with value: 333596.13728266873 and parameters: {'n_estimators': 962, 'max_depth': 7, 'learning_rate': 0.054819663277348885}. Best is trial 2 with value: 291651.77189811703.\n",
      "[I 2023-11-29 09:42:32,811] Trial 9 finished with value: 367515.2935802147 and parameters: {'n_estimators': 650, 'max_depth': 6, 'learning_rate': 0.02039887765387334}. Best is trial 2 with value: 291651.77189811703.\n",
      "[I 2023-11-29 09:42:49,058] Trial 10 finished with value: 282500.362468686 and parameters: {'n_estimators': 1953, 'max_depth': 3, 'learning_rate': 0.26201643232984423}. Best is trial 10 with value: 282500.362468686.\n",
      "[I 2023-11-29 09:43:02,737] Trial 11 finished with value: 282065.03257339506 and parameters: {'n_estimators': 1857, 'max_depth': 3, 'learning_rate': 0.2996656106142916}. Best is trial 11 with value: 282065.03257339506.\n",
      "[I 2023-11-29 09:43:15,656] Trial 12 finished with value: 280588.8127792007 and parameters: {'n_estimators': 1978, 'max_depth': 3, 'learning_rate': 0.2869911521997583}. Best is trial 12 with value: 280588.8127792007.\n",
      "[I 2023-11-29 09:43:31,373] Trial 13 finished with value: 277338.9919373407 and parameters: {'n_estimators': 1995, 'max_depth': 3, 'learning_rate': 0.28657430183093435}. Best is trial 13 with value: 277338.9919373407.\n",
      "[I 2023-11-29 09:43:54,732] Trial 14 finished with value: 367041.7459572329 and parameters: {'n_estimators': 1616, 'max_depth': 9, 'learning_rate': 0.2879815620952449}. Best is trial 13 with value: 277338.9919373407.\n",
      "[I 2023-11-29 09:44:11,266] Trial 15 finished with value: 297306.0042461598 and parameters: {'n_estimators': 1645, 'max_depth': 4, 'learning_rate': 0.2351758650352214}. Best is trial 13 with value: 277338.9919373407.\n",
      "[I 2023-11-29 09:44:29,237] Trial 16 finished with value: 270282.3495841925 and parameters: {'n_estimators': 1624, 'max_depth': 3, 'learning_rate': 0.255827832175206}. Best is trial 16 with value: 270282.3495841925.\n",
      "[I 2023-11-29 09:44:46,758] Trial 17 finished with value: 287844.6646847605 and parameters: {'n_estimators': 1550, 'max_depth': 4, 'learning_rate': 0.23347346012260256}. Best is trial 16 with value: 270282.3495841925.\n",
      "[I 2023-11-29 09:45:02,156] Trial 18 finished with value: 350447.54962005315 and parameters: {'n_estimators': 1745, 'max_depth': 8, 'learning_rate': 0.2065557789680893}. Best is trial 16 with value: 270282.3495841925.\n",
      "[I 2023-11-29 09:45:24,893] Trial 19 finished with value: 299331.803831329 and parameters: {'n_estimators': 1459, 'max_depth': 5, 'learning_rate': 0.15692741718519787}. Best is trial 16 with value: 270282.3495841925.\n",
      "[I 2023-11-29 09:45:37,902] Trial 20 finished with value: 301658.9822690117 and parameters: {'n_estimators': 1817, 'max_depth': 4, 'learning_rate': 0.26271141048464663}. Best is trial 16 with value: 270282.3495841925.\n",
      "[I 2023-11-29 09:45:51,089] Trial 21 finished with value: 277630.6445134523 and parameters: {'n_estimators': 1993, 'max_depth': 3, 'learning_rate': 0.274973253771819}. Best is trial 16 with value: 270282.3495841925.\n",
      "[I 2023-11-29 09:46:06,472] Trial 22 finished with value: 283684.09171748173 and parameters: {'n_estimators': 1990, 'max_depth': 3, 'learning_rate': 0.26721393352478146}. Best is trial 16 with value: 270282.3495841925.\n",
      "[I 2023-11-29 09:46:19,855] Trial 23 finished with value: 278068.66464552266 and parameters: {'n_estimators': 1748, 'max_depth': 3, 'learning_rate': 0.29760060053287146}. Best is trial 16 with value: 270282.3495841925.\n",
      "[I 2023-11-29 09:46:33,256] Trial 24 finished with value: 293807.0538793546 and parameters: {'n_estimators': 1423, 'max_depth': 4, 'learning_rate': 0.2533418980699916}. Best is trial 16 with value: 270282.3495841925.\n",
      "[I 2023-11-29 09:46:47,672] Trial 25 finished with value: 316772.01129289437 and parameters: {'n_estimators': 1813, 'max_depth': 5, 'learning_rate': 0.21567271118396275}. Best is trial 16 with value: 270282.3495841925.\n",
      "[I 2023-11-29 09:47:09,727] Trial 26 finished with value: 279721.74893407326 and parameters: {'n_estimators': 1662, 'max_depth': 3, 'learning_rate': 0.2746758339939018}. Best is trial 16 with value: 270282.3495841925.\n",
      "[I 2023-11-29 09:47:34,428] Trial 27 finished with value: 295899.1991168506 and parameters: {'n_estimators': 1868, 'max_depth': 4, 'learning_rate': 0.2434415683415765}. Best is trial 16 with value: 270282.3495841925.\n",
      "[I 2023-11-29 09:48:01,777] Trial 28 finished with value: 273162.03280333 and parameters: {'n_estimators': 1478, 'max_depth': 3, 'learning_rate': 0.2712494153858155}. Best is trial 16 with value: 270282.3495841925.\n",
      "[I 2023-11-29 09:48:29,304] Trial 29 finished with value: 351371.038193013 and parameters: {'n_estimators': 1181, 'max_depth': 8, 'learning_rate': 0.21617929408199832}. Best is trial 16 with value: 270282.3495841925.\n",
      "[I 2023-11-29 09:48:55,676] Trial 30 finished with value: 305720.1859948074 and parameters: {'n_estimators': 1474, 'max_depth': 5, 'learning_rate': 0.249214183137163}. Best is trial 16 with value: 270282.3495841925.\n",
      "[I 2023-11-29 09:49:13,445] Trial 31 finished with value: 277287.2065583096 and parameters: {'n_estimators': 1338, 'max_depth': 3, 'learning_rate': 0.2805206126483371}. Best is trial 16 with value: 270282.3495841925.\n",
      "[I 2023-11-29 09:49:27,533] Trial 32 finished with value: 276110.5299106233 and parameters: {'n_estimators': 1330, 'max_depth': 3, 'learning_rate': 0.27492881025592514}. Best is trial 16 with value: 270282.3495841925.\n",
      "[I 2023-11-29 09:49:41,110] Trial 33 finished with value: 281477.2185475016 and parameters: {'n_estimators': 1307, 'max_depth': 4, 'learning_rate': 0.2511499953087046}. Best is trial 16 with value: 270282.3495841925.\n"
     ]
    }
   ],
   "source": [
    "\n",
    "warnings.filterwarnings(\"ignore\")\n",
    "import optuna\n",
    "from xgboost import XGBRegressor\n",
    "from sklearn.model_selection import KFold\n",
    "from sklearn.metrics import mean_absolute_error\n",
    "\n",
    "# Función para optimizar con Optuna y validación cruzada\n",
    "def objective(trial, X, y):\n",
    "    param = {\n",
    "        'n_estimators': trial.suggest_int('n_estimators', 100, 2000),\n",
    "        'max_depth': trial.suggest_int('max_depth', 3, 10),\n",
    "        'learning_rate': trial.suggest_float('learning_rate', 0.01, 0.3)\n",
    "    }\n",
    "\n",
    "    xgb_model = XGBRegressor(**param)\n",
    "\n",
    "    # Validación cruzada\n",
    "    kf = KFold(n_splits=5, shuffle=False, random_state=42)\n",
    "    mae_values = []\n",
    "\n",
    "    for train_index, test_index in kf.split(X):\n",
    "        X_train, X_valid = X.iloc[train_index], X.iloc[test_index]\n",
    "        y_train, y_valid = y.iloc[train_index], y.iloc[test_index]\n",
    "\n",
    "        xgb_model.fit(X_train, y_train, eval_set=[(X_valid, y_valid)], early_stopping_rounds=50, verbose=False,\n",
    "                      eval_metric=\"mae\")\n",
    "\n",
    "        y_pred = xgb_model.predict(X_valid)\n",
    "        mae = mean_absolute_error(y_valid, y_pred)\n",
    "        mae_values.append(mae)\n",
    "\n",
    "    return sum(mae_values) / len(mae_values)\n",
    "\n",
    "# Crear un estudio de Optuna\n",
    "study = optuna.create_study(direction='minimize')\n",
    "study.optimize(lambda trial: objective(trial, X_train, y_train), n_trials=100)\n",
    "\n",
    "# Obtener los mejores hiperparámetros\n",
    "best_params = study.best_params\n",
    "\n",
    "# Crear el modelo final con los mejores hiperparámetros\n",
    "final_xgb_model = XGBRegressor(**best_params)\n",
    "final_xgb_model.fit(X_train, y_train)\n",
    "\n",
    "# Realizar predicciones en el conjunto de prueba\n",
    "y_pred = final_xgb_model.predict(X_test)\n",
    "\n",
    "# Calcular el MAE con el modelo final\n",
    "mae_final = mean_absolute_error(y_test, y_pred)\n",
    "r2 = r2_score(y_test, y_pred)\n",
    "\n",
    "# Imprimir los resultados\n",
    "print(\"Mejores hiperparámetros:\", best_params)\n",
    "print(\"MAE con los mejores hiperparámetros:\", mae_final)\n",
    "print(\"R-squared (R2):\", r2)\n"
   ]
  },
  {
   "cell_type": "markdown",
   "id": "cc131f81",
   "metadata": {},
   "source": [
    "### 3. Evaluación del Modelo"
   ]
  },
  {
   "cell_type": "markdown",
   "id": "bbf8e965",
   "metadata": {},
   "source": [
    "Seleccinamos el modelo XGBoostregresor que dio los mejores parametros r2 y MAE. Realizamos una evaluación del modelo"
   ]
  },
  {
   "cell_type": "code",
   "execution_count": 34,
   "id": "71040a16",
   "metadata": {},
   "outputs": [],
   "source": [
    "# Calcular el MAE con el modelo final\n",
    "mae_final = mean_absolute_error(y_test, y_pred)\n",
    "r2 = r2_score(y_test, y_pred)"
   ]
  },
  {
   "cell_type": "code",
   "execution_count": 35,
   "id": "6e28e96a",
   "metadata": {},
   "outputs": [
    {
     "data": {
      "text/plain": [
       "339238.8348335853"
      ]
     },
     "execution_count": 35,
     "metadata": {},
     "output_type": "execute_result"
    }
   ],
   "source": [
    "mae_final"
   ]
  },
  {
   "cell_type": "code",
   "execution_count": 36,
   "id": "588a2aa5",
   "metadata": {},
   "outputs": [],
   "source": [
    "results_df = pd.DataFrame({'Y_test': y_test, 'Y_pred': y_pred})"
   ]
  },
  {
   "cell_type": "code",
   "execution_count": 37,
   "id": "68609328",
   "metadata": {},
   "outputs": [
    {
     "data": {
      "text/plain": [
       "0.9670097361645932"
      ]
     },
     "execution_count": 37,
     "metadata": {},
     "output_type": "execute_result"
    }
   ],
   "source": [
    "r2"
   ]
  },
  {
   "cell_type": "code",
   "execution_count": 38,
   "id": "b3c8a936",
   "metadata": {},
   "outputs": [
    {
     "data": {
      "image/png": "[encoded data removed]",
      "text/plain": [
       "<Figure size 1000x600 with 1 Axes>"
      ]
     },
     "metadata": {},
     "output_type": "display_data"
    }
   ],
   "source": [
    "plt.figure(figsize=(10, 6))\n",
    "plt.scatter(results_df['Y_test'], results_df['Y_pred'])\n",
    "plt.xlabel('Y_test')\n",
    "plt.ylabel('Y_pred')\n",
    "plt.title('Valores reales vs. Predicciones')\n",
    "plt.grid(True)\n",
    "plt.show()"
   ]
  },
  {
   "cell_type": "markdown",
   "id": "41fbd7d2",
   "metadata": {},
   "source": [
    "Se puede observar que el grafico y_pred vs y_test se aproxima a una recta a 45° lo que sugiere que el modelo esta relizando buenas predicciones. "
   ]
  },
  {
   "cell_type": "code",
   "execution_count": 39,
   "id": "6e5e2f78",
   "metadata": {},
   "outputs": [
    {
     "data": {
      "image/png": "[encoded data removed]",
      "text/plain": [
       "<Figure size 1000x600 with 1 Axes>"
      ]
     },
     "metadata": {},
     "output_type": "display_data"
    }
   ],
   "source": [
    "plt.figure(figsize=(10, 6))\n",
    "plt.plot(results_df.index, results_df['Y_test'], label='Y_test', marker='o')\n",
    "plt.plot(results_df.index, results_df['Y_pred'], label='Y_pred', marker='x')\n",
    "plt.xlabel('Índice')\n",
    "plt.ylabel('Valores')\n",
    "plt.title('Valores reales vs. Predicciones por Índice')\n",
    "plt.legend()\n",
    "plt.grid(True)\n",
    "plt.show()"
   ]
  },
  {
   "cell_type": "markdown",
   "id": "ab09f2cb",
   "metadata": {},
   "source": [
    "Construimos un dataset con los valores de y_tes e y_pred "
   ]
  },
  {
   "cell_type": "code",
   "execution_count": 49,
   "id": "c03a461c",
   "metadata": {},
   "outputs": [],
   "source": [
    "results_df_con_pais = pd.DataFrame({'Y_test': y_test, 'Y_pred': y_pred, 'Pais': X_test['ISO3_dest_ARG'],'Año': X_test['Year'] })\n",
    "\n",
    "# Filtrar los resultados para un país específico\n",
    "pais_seleccionado = 1  # Reemplaza con el nombre de tu país de interés\n",
    "results_arg = results_df_con_pais[results_df_con_pais['Pais'] == pais_seleccionado]"
   ]
  },
  {
   "cell_type": "code",
   "execution_count": 50,
   "id": "5f1f0422",
   "metadata": {},
   "outputs": [],
   "source": [
    "results_arg['diferencia']=results_arg['Y_test'] - results_arg['Y_pred']"
   ]
  },
  {
   "cell_type": "code",
   "execution_count": 51,
   "id": "32a16d7d",
   "metadata": {},
   "outputs": [
    {
     "data": {
      "text/html": [
       "<div>\n",
       "<style scoped>\n",
       "    .dataframe tbody tr th:only-of-type {\n",
       "        vertical-align: middle;\n",
       "    }\n",
       "\n",
       "    .dataframe tbody tr th {\n",
       "        vertical-align: top;\n",
       "    }\n",
       "\n",
       "    .dataframe thead th {\n",
       "        text-align: right;\n",
       "    }\n",
       "</style>\n",
       "<table border=\"1\" class=\"dataframe\">\n",
       "  <thead>\n",
       "    <tr style=\"text-align: right;\">\n",
       "      <th></th>\n",
       "      <th>Y_test</th>\n",
       "      <th>Y_pred</th>\n",
       "      <th>Pais</th>\n",
       "      <th>Año</th>\n",
       "      <th>diferencia</th>\n",
       "    </tr>\n",
       "  </thead>\n",
       "  <tbody>\n",
       "    <tr>\n",
       "      <th>855</th>\n",
       "      <td>2042145</td>\n",
       "      <td>1631074.375</td>\n",
       "      <td>1</td>\n",
       "      <td>2015</td>\n",
       "      <td>411070.625</td>\n",
       "    </tr>\n",
       "    <tr>\n",
       "      <th>899</th>\n",
       "      <td>2237152</td>\n",
       "      <td>1837289.500</td>\n",
       "      <td>1</td>\n",
       "      <td>2020</td>\n",
       "      <td>399862.500</td>\n",
       "    </tr>\n",
       "  </tbody>\n",
       "</table>\n",
       "</div>"
      ],
      "text/plain": [
       "      Y_test       Y_pred  Pais   Año  diferencia\n",
       "855  2042145  1631074.375     1  2015  411070.625\n",
       "899  2237152  1837289.500     1  2020  399862.500"
      ]
     },
     "execution_count": 51,
     "metadata": {},
     "output_type": "execute_result"
    }
   ],
   "source": [
    "results_arg"
   ]
  },
  {
   "cell_type": "markdown",
   "id": "968c6739",
   "metadata": {},
   "source": [
    "Se observa que los valores predichos son mas bajos que los reales, en el orden del error cuadratico medio. Sin embargo el modelo captó la tendencia de aumento en el stock migratorio. Se utilizará el modelo para crear una aplicación que determine el % de variación del stock migratorio ante variaciones en los indicadores estudiados."
   ]
  },
  {
   "cell_type": "code",
   "execution_count": 43,
   "id": "0eac5b2e",
   "metadata": {},
   "outputs": [
    {
     "data": {
      "image/png": "[encoded data removed]",
      "text/plain": [
       "<Figure size 1000x600 with 1 Axes>"
      ]
     },
     "metadata": {},
     "output_type": "display_data"
    }
   ],
   "source": [
    "plt.figure(figsize=(10, 6))Se observa que los valores predichos son mas bajos que los reales, en el orden del error cuadratico medio. Sin embargo el modelo captó la tendencia de aumento en el stock migratorio. Se utilizará el modelo para crear una aplicación que determine el % de variacion del stock migratorio ante variaciones en los indicadores estudiados.\n",
    "plt.plot(results_arg.index, results_arg['Y_test'], label='Y_test', marker='o')\n",
    "plt.plot(results_arg.index, results_arg['Y_pred'], label='Y_pred', marker='x')\n",
    "plt.xlabel('Índice')\n",
    "plt.ylabel('Valores')\n",
    "plt.title('Valores reales vs. Predicciones por Índice')\n",
    "plt.legend()\n",
    "plt.grid(True)\n",
    "plt.show()"
   ]
  },
  {
   "cell_type": "markdown",
   "id": "4863dd80",
   "metadata": {},
   "source": [
    "Guardo el mejor modelo para despues levantarlo e incorporarlo a la app que desarrollaremos con streamlit."
   ]
  },
  {
   "cell_type": "code",
   "execution_count": 44,
   "id": "fddf68dc",
   "metadata": {},
   "outputs": [],
   "source": [
    "best_model.save_model('xgb_model_final_3.json')"
   ]
  },
  {
   "cell_type": "markdown",
   "id": "bd7c1e79",
   "metadata": {},
   "source": [
    "Se genera un archivo csv llamado para llenar que se va usar para el deploy del modelo en streamlit"
   ]
  },
  {
   "cell_type": "code",
   "execution_count": 45,
   "id": "e945274c",
   "metadata": {},
   "outputs": [
    {
     "data": {
      "text/plain": [
       "Index(['Year', 'Ingresos', 'Electricidad', 'Crecimiento PBI per cápita',\n",
       "       'Importaciones', 'Desempleados con educación avanzada', 'Pobreza',\n",
       "       'Mortalidad', 'ISO3_dest_AFG', 'ISO3_dest_AGO',\n",
       "       ...\n",
       "       'ISO3_dest_UZB', 'ISO3_dest_VCT', 'ISO3_dest_VEN', 'ISO3_dest_VNM',\n",
       "       'ISO3_dest_VUT', 'ISO3_dest_WSM', 'ISO3_dest_YEM', 'ISO3_dest_ZAF',\n",
       "       'ISO3_dest_ZMB', 'ISO3_dest_ZWE'],\n",
       "      dtype='object', length=199)"
      ]
     },
     "execution_count": 45,
     "metadata": {},
     "output_type": "execute_result"
    }
   ],
   "source": [
    "X.columns"
   ]
  },
  {
   "cell_type": "code",
   "execution_count": 46,
   "id": "8b1f3ff3",
   "metadata": {},
   "outputs": [
    {
     "data": {
      "text/plain": [
       "(1039, 199)"
      ]
     },
     "execution_count": 46,
     "metadata": {},
     "output_type": "execute_result"
    }
   ],
   "source": [
    "X.shape"
   ]
  },
  {
   "cell_type": "code",
   "execution_count": 47,
   "id": "e0a26cb6",
   "metadata": {},
   "outputs": [],
   "source": [
    "columnas=X_train.columns\n",
    "df = pd.DataFrame([0]*len(columnas), index=columnas).T\n",
    "df.to_csv('para_llenar_2')"
   ]
  },
  {
   "cell_type": "code",
   "execution_count": 48,
   "id": "3671a9bc",
   "metadata": {},
   "outputs": [
    {
     "data": {
      "text/html": [
       "<div>\n",
       "<style scoped>\n",
       "    .dataframe tbody tr th:only-of-type {\n",
       "        vertical-align: middle;\n",
       "    }\n",
       "\n",
       "    .dataframe tbody tr th {\n",
       "        vertical-align: top;\n",
       "    }\n",
       "\n",
       "    .dataframe thead th {\n",
       "        text-align: right;\n",
       "    }\n",
       "</style>\n",
       "<table border=\"1\" class=\"dataframe\">\n",
       "  <thead>\n",
       "    <tr style=\"text-align: right;\">\n",
       "      <th></th>\n",
       "      <th>Year</th>\n",
       "      <th>Ingresos</th>\n",
       "      <th>Electricidad</th>\n",
       "      <th>Crecimiento PBI per cápita</th>\n",
       "      <th>Importaciones</th>\n",
       "      <th>Desempleados con educación avanzada</th>\n",
       "      <th>Pobreza</th>\n",
       "      <th>Mortalidad</th>\n",
       "      <th>ISO3_dest_AFG</th>\n",
       "      <th>ISO3_dest_AGO</th>\n",
       "      <th>...</th>\n",
       "      <th>ISO3_dest_UZB</th>\n",
       "      <th>ISO3_dest_VCT</th>\n",
       "      <th>ISO3_dest_VEN</th>\n",
       "      <th>ISO3_dest_VNM</th>\n",
       "      <th>ISO3_dest_VUT</th>\n",
       "      <th>ISO3_dest_WSM</th>\n",
       "      <th>ISO3_dest_YEM</th>\n",
       "      <th>ISO3_dest_ZAF</th>\n",
       "      <th>ISO3_dest_ZMB</th>\n",
       "      <th>ISO3_dest_ZWE</th>\n",
       "    </tr>\n",
       "  </thead>\n",
       "  <tbody>\n",
       "    <tr>\n",
       "      <th>0</th>\n",
       "      <td>0</td>\n",
       "      <td>0</td>\n",
       "      <td>0</td>\n",
       "      <td>0</td>\n",
       "      <td>0</td>\n",
       "      <td>0</td>\n",
       "      <td>0</td>\n",
       "      <td>0</td>\n",
       "      <td>0</td>\n",
       "      <td>0</td>\n",
       "      <td>...</td>\n",
       "      <td>0</td>\n",
       "      <td>0</td>\n",
       "      <td>0</td>\n",
       "      <td>0</td>\n",
       "      <td>0</td>\n",
       "      <td>0</td>\n",
       "      <td>0</td>\n",
       "      <td>0</td>\n",
       "      <td>0</td>\n",
       "      <td>0</td>\n",
       "    </tr>\n",
       "  </tbody>\n",
       "</table>\n",
       "<p>1 rows × 199 columns</p>\n",
       "</div>"
      ],
      "text/plain": [
       "   Year  Ingresos  Electricidad  Crecimiento PBI per cápita  Importaciones  \\\n",
       "0     0         0             0                           0              0   \n",
       "\n",
       "   Desempleados con educación avanzada  Pobreza  Mortalidad  ISO3_dest_AFG  \\\n",
       "0                                    0        0           0              0   \n",
       "\n",
       "   ISO3_dest_AGO  ...  ISO3_dest_UZB  ISO3_dest_VCT  ISO3_dest_VEN  \\\n",
       "0              0  ...              0              0              0   \n",
       "\n",
       "   ISO3_dest_VNM  ISO3_dest_VUT  ISO3_dest_WSM  ISO3_dest_YEM  ISO3_dest_ZAF  \\\n",
       "0              0              0              0              0              0   \n",
       "\n",
       "   ISO3_dest_ZMB  ISO3_dest_ZWE  \n",
       "0              0              0  \n",
       "\n",
       "[1 rows x 199 columns]"
      ]
     },
     "execution_count": 48,
     "metadata": {},
     "output_type": "execute_result"
    }
   ],
   "source": [
    "df"
   ]
  },
  {
   "cell_type": "code",
   "execution_count": null,
   "id": "25150262",
   "metadata": {},
   "outputs": [],
   "source": []
  },
  {
   "cell_type": "code",
   "execution_count": null,
   "id": "f3db5611",
   "metadata": {},
   "outputs": [],
   "source": []
  },
  {
   "cell_type": "code",
   "execution_count": null,
   "id": "4d961b93",
   "metadata": {},
   "outputs": [],
   "source": []
  }
 ],
 "metadata": {
  "kernelspec": {
   "display_name": "Python [conda env:dhdsblend2021] *",
   "language": "python",
   "name": "conda-env-dhdsblend2021-py"
  },
  "language_info": {
   "codemirror_mode": {
    "name": "ipython",
    "version": 3
   },
   "file_extension": ".py",
   "mimetype": "text/x-python",
   "name": "python",
   "nbconvert_exporter": "python",
   "pygments_lexer": "ipython3",
   "version": "3.8.12"
  }
 },
 "nbformat": 4,
 "nbformat_minor": 5
}
