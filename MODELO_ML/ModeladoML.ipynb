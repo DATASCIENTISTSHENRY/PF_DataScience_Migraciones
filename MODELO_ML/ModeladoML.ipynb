{
 "cells": [
  {
   "cell_type": "code",
   "execution_count": 19,
   "id": "bc2d313e",
   "metadata": {},
   "outputs": [],
   "source": [
    "import numpy as np\n",
    "import pandas as pd\n",
    "import pandas as pd\n",
    "import matplotlib.pyplot as plt\n",
    "import seaborn as sns\n",
    "from datetime import datetime  # Importa datetime\n",
    "pd.set_option('max_columns', None)\n",
    "import regex as re\n",
    "import pycountry"
   ]
  },
  {
   "cell_type": "markdown",
   "id": "e020c8ef",
   "metadata": {},
   "source": [
    "## MODELO PARA PREDECIR LA MIGRACIÓN NETA INGRESANDO VALORES DE AÑO E INDICADORES"
   ]
  },
  {
   "cell_type": "markdown",
   "id": "a8430825",
   "metadata": {},
   "source": [
    "En esta sección se construirá un modelo que prediga la migracion neta de un pais, ingresando el año y los indicadores correspondientes de dicho pais.\n",
    "Para ello se utiliza el dataset llamado merged_df_modelo que tiene información de la migracion neta por año para todos los paises, junto con los valores de los indicadores."
   ]
  },
  {
   "cell_type": "code",
   "execution_count": 20,
   "id": "6f79b25a",
   "metadata": {},
   "outputs": [],
   "source": [
    "merged_df_modelo=pd.read_csv('indicadores_modelo.csv')"
   ]
  },
  {
   "cell_type": "code",
   "execution_count": 21,
   "id": "7b09b7cc",
   "metadata": {},
   "outputs": [],
   "source": [
    "merged_df_modelo.drop(columns='Unnamed: 0', inplace=True)"
   ]
  },
  {
   "cell_type": "code",
   "execution_count": 22,
   "id": "79ab5fa6",
   "metadata": {},
   "outputs": [
    {
     "data": {
      "text/plain": [
       "Country Code                               0\n",
       "Year                                       0\n",
       "Ingresos                               16514\n",
       "Electricidad                            9410\n",
       "Contaminación                          13854\n",
       "Crecimiento PBI                         4027\n",
       "Crecimiento PBI per cápita              4028\n",
       "Desempleo Hombre                       11961\n",
       "Desempleo mujeres                       9246\n",
       "Gasto PBI                              12025\n",
       "Importaciones                           2634\n",
       "Migracion neta                           328\n",
       "Desempleados con educación avanzada    14248\n",
       "Tasa de cambio                          5252\n",
       "Pobreza                                15746\n",
       "Mortalidad                               739\n",
       "dtype: int64"
      ]
     },
     "execution_count": 22,
     "metadata": {},
     "output_type": "execute_result"
    }
   ],
   "source": [
    "merged_df_modelo.isnull().sum()"
   ]
  },
  {
   "cell_type": "code",
   "execution_count": 23,
   "id": "c8e37ac7",
   "metadata": {},
   "outputs": [],
   "source": [
    "umbral = len(merged_df_modelo.columns) * 0.7"
   ]
  },
  {
   "cell_type": "code",
   "execution_count": 24,
   "id": "d76876a7",
   "metadata": {},
   "outputs": [],
   "source": [
    "merged_df_modelo_sin_80_na = merged_df_modelo.dropna(thresh=umbral)"
   ]
  },
  {
   "cell_type": "code",
   "execution_count": 25,
   "id": "01199f9e",
   "metadata": {},
   "outputs": [
    {
     "data": {
      "text/plain": [
       "(3411, 16)"
      ]
     },
     "execution_count": 25,
     "metadata": {},
     "output_type": "execute_result"
    }
   ],
   "source": [
    "merged_df_modelo_sin_80_na.shape"
   ]
  },
  {
   "cell_type": "code",
   "execution_count": 26,
   "id": "e10fb7b8",
   "metadata": {},
   "outputs": [
    {
     "data": {
      "text/plain": [
       "Index(['Country Code', 'Year', 'Ingresos', 'Electricidad', 'Contaminación',\n",
       "       'Crecimiento PBI', 'Crecimiento PBI per cápita', 'Desempleo Hombre',\n",
       "       'Desempleo mujeres', 'Gasto PBI', 'Importaciones', 'Migracion neta',\n",
       "       'Desempleados con educación avanzada', 'Tasa de cambio', 'Pobreza',\n",
       "       'Mortalidad'],\n",
       "      dtype='object')"
      ]
     },
     "execution_count": 26,
     "metadata": {},
     "output_type": "execute_result"
    }
   ],
   "source": [
    "merged_df_modelo_sin_80_na.columns"
   ]
  },
  {
   "cell_type": "code",
   "execution_count": 27,
   "id": "2caa9a4f",
   "metadata": {},
   "outputs": [
    {
     "name": "stdout",
     "output_type": "stream",
     "text": [
      "<class 'pandas.core.frame.DataFrame'>\n",
      "Int64Index: 3411 entries, 7989 to 16491\n",
      "Data columns (total 16 columns):\n",
      " #   Column                               Non-Null Count  Dtype  \n",
      "---  ------                               --------------  -----  \n",
      " 0   Country Code                         3411 non-null   object \n",
      " 1   Year                                 3411 non-null   int64  \n",
      " 2   Ingresos                             233 non-null    float64\n",
      " 3   Electricidad                         3404 non-null   float64\n",
      " 4   Contaminación                        1690 non-null   float64\n",
      " 5   Crecimiento PBI                      3409 non-null   float64\n",
      " 6   Crecimiento PBI per cápita           3409 non-null   float64\n",
      " 7   Desempleo Hombre                     3033 non-null   float64\n",
      " 8   Desempleo mujeres                    3365 non-null   float64\n",
      " 9   Gasto PBI                            2898 non-null   float64\n",
      " 10  Importaciones                        3398 non-null   float64\n",
      " 11  Migracion neta                       3411 non-null   float64\n",
      " 12  Desempleados con educación avanzada  2327 non-null   float64\n",
      " 13  Tasa de cambio                       3115 non-null   float64\n",
      " 14  Pobreza                              961 non-null    float64\n",
      " 15  Mortalidad                           3411 non-null   float64\n",
      "dtypes: float64(14), int64(1), object(1)\n",
      "memory usage: 453.0+ KB\n"
     ]
    }
   ],
   "source": [
    "merged_df_modelo_sin_80_na.info()"
   ]
  },
  {
   "cell_type": "markdown",
   "id": "680090cd",
   "metadata": {},
   "source": [
    "## REALIZAR IMPUTACION DE VALORES FALTANTES CON KNN"
   ]
  },
  {
   "cell_type": "code",
   "execution_count": 28,
   "id": "f85a5826",
   "metadata": {},
   "outputs": [],
   "source": [
    "from sklearn.impute import KNNImputer\n",
    "\n",
    "\n",
    "\n",
    "# Columnas a imputar son las siguientes\n",
    "columns_to_impute = ['Ingresos', 'Electricidad', 'Contaminación', 'Crecimiento PBI', 'Crecimiento PBI per cápita', \n",
    "                     'Desempleo Hombre', 'Desempleo mujeres', 'Gasto PBI', 'Importaciones', \n",
    "                     'Desempleados con educación avanzada', 'Tasa de cambio', 'Pobreza','Mortalidad']\n",
    "\n",
    "# Copiar el DataFrame original para no modificarlo directamente\n",
    "merged_df_modelo_sin_80_na_imputed = merged_df_modelo_sin_80_na.copy()\n",
    "\n",
    "# Crear una instancia de KNNImputer\n",
    "imputer = KNNImputer(n_neighbors=5)  # Elige el número de vecinos que deseas considerar\n",
    "\n",
    "# Ajustar y transformar los datos utilizando KNNImputer\n",
    "merged_df_modelo_sin_80_na_imputed[columns_to_impute] = imputer.fit_transform(merged_df_modelo_sin_80_na_imputed[columns_to_impute])\n",
    "\n"
   ]
  },
  {
   "cell_type": "code",
   "execution_count": 29,
   "id": "b120bb9a",
   "metadata": {},
   "outputs": [
    {
     "name": "stdout",
     "output_type": "stream",
     "text": [
      "<class 'pandas.core.frame.DataFrame'>\n",
      "Int64Index: 3411 entries, 7989 to 16491\n",
      "Data columns (total 16 columns):\n",
      " #   Column                               Non-Null Count  Dtype  \n",
      "---  ------                               --------------  -----  \n",
      " 0   Country Code                         3411 non-null   object \n",
      " 1   Year                                 3411 non-null   int64  \n",
      " 2   Ingresos                             3411 non-null   float64\n",
      " 3   Electricidad                         3411 non-null   float64\n",
      " 4   Contaminación                        3411 non-null   float64\n",
      " 5   Crecimiento PBI                      3411 non-null   float64\n",
      " 6   Crecimiento PBI per cápita           3411 non-null   float64\n",
      " 7   Desempleo Hombre                     3411 non-null   float64\n",
      " 8   Desempleo mujeres                    3411 non-null   float64\n",
      " 9   Gasto PBI                            3411 non-null   float64\n",
      " 10  Importaciones                        3411 non-null   float64\n",
      " 11  Migracion neta                       3411 non-null   float64\n",
      " 12  Desempleados con educación avanzada  3411 non-null   float64\n",
      " 13  Tasa de cambio                       3411 non-null   float64\n",
      " 14  Pobreza                              3411 non-null   float64\n",
      " 15  Mortalidad                           3411 non-null   float64\n",
      "dtypes: float64(14), int64(1), object(1)\n",
      "memory usage: 453.0+ KB\n"
     ]
    }
   ],
   "source": [
    "merged_df_modelo_sin_80_na_imputed.info()"
   ]
  },
  {
   "cell_type": "code",
   "execution_count": 30,
   "id": "30102b51",
   "metadata": {},
   "outputs": [
    {
     "data": {
      "text/html": [
       "<div>\n",
       "<style scoped>\n",
       "    .dataframe tbody tr th:only-of-type {\n",
       "        vertical-align: middle;\n",
       "    }\n",
       "\n",
       "    .dataframe tbody tr th {\n",
       "        vertical-align: top;\n",
       "    }\n",
       "\n",
       "    .dataframe thead th {\n",
       "        text-align: right;\n",
       "    }\n",
       "</style>\n",
       "<table border=\"1\" class=\"dataframe\">\n",
       "  <thead>\n",
       "    <tr style=\"text-align: right;\">\n",
       "      <th></th>\n",
       "      <th>Country Code</th>\n",
       "      <th>Year</th>\n",
       "      <th>Ingresos</th>\n",
       "      <th>Electricidad</th>\n",
       "      <th>Contaminación</th>\n",
       "      <th>Crecimiento PBI</th>\n",
       "      <th>Crecimiento PBI per cápita</th>\n",
       "      <th>Desempleo Hombre</th>\n",
       "      <th>Desempleo mujeres</th>\n",
       "      <th>Gasto PBI</th>\n",
       "      <th>Importaciones</th>\n",
       "      <th>Migracion neta</th>\n",
       "      <th>Desempleados con educación avanzada</th>\n",
       "      <th>Tasa de cambio</th>\n",
       "      <th>Pobreza</th>\n",
       "      <th>Mortalidad</th>\n",
       "    </tr>\n",
       "  </thead>\n",
       "  <tbody>\n",
       "    <tr>\n",
       "      <th>7989</th>\n",
       "      <td>ARG</td>\n",
       "      <td>1990</td>\n",
       "      <td>10.840</td>\n",
       "      <td>92.1548</td>\n",
       "      <td>99.606700</td>\n",
       "      <td>-2.467214</td>\n",
       "      <td>-3.877390</td>\n",
       "      <td>7.13</td>\n",
       "      <td>27.4572</td>\n",
       "      <td>10.325440</td>\n",
       "      <td>4.076000e+09</td>\n",
       "      <td>6021.0</td>\n",
       "      <td>23.936</td>\n",
       "      <td>0.487589</td>\n",
       "      <td>29.74</td>\n",
       "      <td>7.743</td>\n",
       "    </tr>\n",
       "    <tr>\n",
       "      <th>7993</th>\n",
       "      <td>AUS</td>\n",
       "      <td>1990</td>\n",
       "      <td>18.524</td>\n",
       "      <td>100.0000</td>\n",
       "      <td>31.883404</td>\n",
       "      <td>3.576486</td>\n",
       "      <td>2.054794</td>\n",
       "      <td>6.74</td>\n",
       "      <td>22.8596</td>\n",
       "      <td>21.815482</td>\n",
       "      <td>4.198500e+10</td>\n",
       "      <td>95996.0</td>\n",
       "      <td>20.622</td>\n",
       "      <td>1.281057</td>\n",
       "      <td>26.88</td>\n",
       "      <td>7.000</td>\n",
       "    </tr>\n",
       "    <tr>\n",
       "      <th>7994</th>\n",
       "      <td>AUT</td>\n",
       "      <td>1990</td>\n",
       "      <td>15.520</td>\n",
       "      <td>100.0000</td>\n",
       "      <td>99.655570</td>\n",
       "      <td>4.345641</td>\n",
       "      <td>3.553548</td>\n",
       "      <td>3.02</td>\n",
       "      <td>22.7724</td>\n",
       "      <td>35.591270</td>\n",
       "      <td>4.914600e+10</td>\n",
       "      <td>59606.0</td>\n",
       "      <td>21.880</td>\n",
       "      <td>11.369833</td>\n",
       "      <td>30.50</td>\n",
       "      <td>10.800</td>\n",
       "    </tr>\n",
       "  </tbody>\n",
       "</table>\n",
       "</div>"
      ],
      "text/plain": [
       "     Country Code  Year  Ingresos  Electricidad  Contaminación  \\\n",
       "7989          ARG  1990    10.840       92.1548      99.606700   \n",
       "7993          AUS  1990    18.524      100.0000      31.883404   \n",
       "7994          AUT  1990    15.520      100.0000      99.655570   \n",
       "\n",
       "      Crecimiento PBI  Crecimiento PBI per cápita  Desempleo Hombre  \\\n",
       "7989        -2.467214                   -3.877390              7.13   \n",
       "7993         3.576486                    2.054794              6.74   \n",
       "7994         4.345641                    3.553548              3.02   \n",
       "\n",
       "      Desempleo mujeres  Gasto PBI  Importaciones  Migracion neta  \\\n",
       "7989            27.4572  10.325440   4.076000e+09          6021.0   \n",
       "7993            22.8596  21.815482   4.198500e+10         95996.0   \n",
       "7994            22.7724  35.591270   4.914600e+10         59606.0   \n",
       "\n",
       "      Desempleados con educación avanzada  Tasa de cambio  Pobreza  Mortalidad  \n",
       "7989                               23.936        0.487589    29.74       7.743  \n",
       "7993                               20.622        1.281057    26.88       7.000  \n",
       "7994                               21.880       11.369833    30.50      10.800  "
      ]
     },
     "execution_count": 30,
     "metadata": {},
     "output_type": "execute_result"
    }
   ],
   "source": [
    "merged_df_modelo_sin_80_na_imputed.head(3)"
   ]
  },
  {
   "cell_type": "code",
   "execution_count": 31,
   "id": "c5f1a776",
   "metadata": {},
   "outputs": [],
   "source": [
    "# Ordenar el DataFrame por la columna 'Year'\n",
    "merged_df_modelo_sin_80_na_imputed.sort_values('Year', inplace=True)\n",
    "\n",
    "# Restablecer el índice\n",
    "merged_df_modelo_sin_80_na_imputed.reset_index(drop=True, inplace=True)"
   ]
  },
  {
   "cell_type": "markdown",
   "id": "1e9d0417",
   "metadata": {},
   "source": [
    "## PRIMER AJUSTE CON BAGGINGREGRESSOR"
   ]
  },
  {
   "cell_type": "code",
   "execution_count": 32,
   "id": "3df66f63",
   "metadata": {},
   "outputs": [],
   "source": [
    "from sklearn.model_selection import train_test_split\n",
    "from sklearn.ensemble import BaggingRegressor\n",
    "from sklearn.impute import SimpleImputer\n",
    "from sklearn.preprocessing import OneHotEncoder\n",
    "from sklearn.compose import ColumnTransformer\n",
    "from sklearn.metrics import mean_squared_error, r2_score\n",
    "\n",
    "# Eliminar las filas con valores nulos en la columna objetivo 'Migracion neta'\n",
    "merged_df_modelo_sin_80_na_imputed.dropna(subset=['Migracion neta'], inplace=True)\n",
    "\n",
    "\n",
    "# Definir tus características y etiquetas\n",
    "X = merged_df_modelo_sin_80_na_imputed.drop(['Migracion neta'], axis=1)  # Características excepto 'Migracion neta' y 'Country Code'\n",
    "y = merged_df_modelo_sin_80_na_imputed['Migracion neta']  # Etiquetas\n",
    "\n",
    "merged_df_modelo_sin_80_na_imputed.reset_index(drop=True, inplace=True)\n",
    "\n",
    "# Dividir los datos en conjuntos de entrenamiento y prueba\n",
    "X = pd.get_dummies(X, columns=['Country Code'])\n",
    "X_train, X_test, y_train, y_test = train_test_split(X, y, test_size=0.2, shuffle=False,random_state=0)\n",
    "\n",
    "# Crear un modelo BaggingRegressor\n",
    "bagging_model = BaggingRegressor(random_state=0)\n",
    "\n",
    "# Entrenar el modelo\n",
    "bagging_model.fit(X_train, y_train)\n",
    "\n",
    "# Realizar predicciones en el conjunto de prueba\n",
    "y_pred = bagging_model.predict(X_test)\n",
    "\n"
   ]
  },
  {
   "cell_type": "code",
   "execution_count": 69,
   "id": "c113bbe4",
   "metadata": {},
   "outputs": [],
   "source": [
    "\n",
    "r2 = r2_score(y_test, y_pred)\n",
    "mse = mean_squared_error(y_test, y_pred)"
   ]
  },
  {
   "cell_type": "code",
   "execution_count": 34,
   "id": "a4433ff5",
   "metadata": {},
   "outputs": [
    {
     "data": {
      "text/plain": [
       "43975534805.57854"
      ]
     },
     "execution_count": 34,
     "metadata": {},
     "output_type": "execute_result"
    }
   ],
   "source": [
    "mse"
   ]
  },
  {
   "cell_type": "code",
   "execution_count": null,
   "id": "8d58c7d9",
   "metadata": {},
   "outputs": [],
   "source": []
  },
  {
   "cell_type": "code",
   "execution_count": 35,
   "id": "1c3a2ba3",
   "metadata": {},
   "outputs": [
    {
     "data": {
      "text/plain": [
       "0.8691065233538974"
      ]
     },
     "execution_count": 35,
     "metadata": {},
     "output_type": "execute_result"
    }
   ],
   "source": [
    "r2"
   ]
  },
  {
   "cell_type": "code",
   "execution_count": null,
   "id": "13f4762d",
   "metadata": {},
   "outputs": [],
   "source": []
  },
  {
   "cell_type": "code",
   "execution_count": 36,
   "id": "3f9674ed",
   "metadata": {},
   "outputs": [
    {
     "data": {
      "image/png": "[encoded data removed]",
      "text/plain": [
       "<Figure size 1000x600 with 1 Axes>"
      ]
     },
     "metadata": {},
     "output_type": "display_data"
    }
   ],
   "source": [
    "# Graficar Ytest y Ypred\n",
    "plt.figure(figsize=(10, 6))\n",
    "plt.plot(y_test.index, y_test, label='Ytest', marker='o')\n",
    "plt.plot(y_test.index, y_pred, label='Ypred', marker='x')\n",
    "plt.xlabel('Índice de la muestra')\n",
    "plt.ylabel('Migracion neta')\n",
    "plt.title('Valores reales vs. Predicciones')\n",
    "plt.legend()\n",
    "plt.show()"
   ]
  },
  {
   "cell_type": "markdown",
   "id": "04f52f9e",
   "metadata": {},
   "source": [
    "## MODELO PARA PREDECIR STOCK DE MIGRANTES INGRESANDO PAIS DE ORIGEN, PAIS DE DESTINO E INDICADORES DE AMBOS"
   ]
  },
  {
   "cell_type": "markdown",
   "id": "14009ec4",
   "metadata": {},
   "source": [
    "En esta sección se construirá un modelo que prediga la cantidad de migrantes que existe entre dos paises, ingresando el año, pais destino, pais origen e indicadores de ambos paises. \n",
    "Para ello se utiliza el dataset llamado Stock_migrantes que tiene información de cantidade de migrantes para pares de pais origen y destino, jutno con los indicadores de cada pais involucrado en el flujo."
   ]
  },
  {
   "cell_type": "code",
   "execution_count": 38,
   "id": "918569cb",
   "metadata": {},
   "outputs": [],
   "source": [
    "Stock_migrantes=pd.read_csv('stock_migrantes_modelo.csv')"
   ]
  },
  {
   "cell_type": "code",
   "execution_count": 39,
   "id": "bc5a0068",
   "metadata": {},
   "outputs": [
    {
     "data": {
      "text/html": [
       "<div>\n",
       "<style scoped>\n",
       "    .dataframe tbody tr th:only-of-type {\n",
       "        vertical-align: middle;\n",
       "    }\n",
       "\n",
       "    .dataframe tbody tr th {\n",
       "        vertical-align: top;\n",
       "    }\n",
       "\n",
       "    .dataframe thead th {\n",
       "        text-align: right;\n",
       "    }\n",
       "</style>\n",
       "<table border=\"1\" class=\"dataframe\">\n",
       "  <thead>\n",
       "    <tr style=\"text-align: right;\">\n",
       "      <th></th>\n",
       "      <th>Unnamed: 0</th>\n",
       "      <th>Destination</th>\n",
       "      <th>Notes of destination</th>\n",
       "      <th>Location code of destination</th>\n",
       "      <th>ISO3_dest</th>\n",
       "      <th>Type of data of destination</th>\n",
       "      <th>Origin</th>\n",
       "      <th>Location code of origin</th>\n",
       "      <th>ISO3_origin</th>\n",
       "      <th>Year</th>\n",
       "      <th>Migrant stock</th>\n",
       "    </tr>\n",
       "  </thead>\n",
       "  <tbody>\n",
       "    <tr>\n",
       "      <th>0</th>\n",
       "      <td>0</td>\n",
       "      <td>Burundi</td>\n",
       "      <td>NaN</td>\n",
       "      <td>108</td>\n",
       "      <td>BDI</td>\n",
       "      <td>B R</td>\n",
       "      <td>Democratic Republic of the Congo</td>\n",
       "      <td>180</td>\n",
       "      <td>COD</td>\n",
       "      <td>1990</td>\n",
       "      <td>36654</td>\n",
       "    </tr>\n",
       "    <tr>\n",
       "      <th>1</th>\n",
       "      <td>1</td>\n",
       "      <td>Burundi</td>\n",
       "      <td>NaN</td>\n",
       "      <td>108</td>\n",
       "      <td>BDI</td>\n",
       "      <td>B R</td>\n",
       "      <td>France*</td>\n",
       "      <td>250</td>\n",
       "      <td>FRA</td>\n",
       "      <td>1990</td>\n",
       "      <td>321</td>\n",
       "    </tr>\n",
       "    <tr>\n",
       "      <th>2</th>\n",
       "      <td>2</td>\n",
       "      <td>Burundi</td>\n",
       "      <td>NaN</td>\n",
       "      <td>108</td>\n",
       "      <td>BDI</td>\n",
       "      <td>B R</td>\n",
       "      <td>Kenya</td>\n",
       "      <td>404</td>\n",
       "      <td>KEN</td>\n",
       "      <td>1990</td>\n",
       "      <td>186</td>\n",
       "    </tr>\n",
       "  </tbody>\n",
       "</table>\n",
       "</div>"
      ],
      "text/plain": [
       "   Unnamed: 0 Destination  Notes of destination  Location code of destination  \\\n",
       "0           0     Burundi                   NaN                           108   \n",
       "1           1     Burundi                   NaN                           108   \n",
       "2           2     Burundi                   NaN                           108   \n",
       "\n",
       "  ISO3_dest Type of data of destination                            Origin  \\\n",
       "0       BDI                         B R  Democratic Republic of the Congo   \n",
       "1       BDI                         B R                           France*   \n",
       "2       BDI                         B R                             Kenya   \n",
       "\n",
       "   Location code of origin ISO3_origin  Year  Migrant stock  \n",
       "0                      180         COD  1990          36654  \n",
       "1                      250         FRA  1990            321  \n",
       "2                      404         KEN  1990            186  "
      ]
     },
     "execution_count": 39,
     "metadata": {},
     "output_type": "execute_result"
    }
   ],
   "source": [
    "Stock_migrantes.head(3)"
   ]
  },
  {
   "cell_type": "code",
   "execution_count": 40,
   "id": "c0a5a5f0",
   "metadata": {},
   "outputs": [],
   "source": [
    "Stock_migrantes.drop(columns='Unnamed: 0',inplace=True)"
   ]
  },
  {
   "cell_type": "markdown",
   "id": "e2df52b3",
   "metadata": {},
   "source": [
    "## uniones para llegar a dataset final"
   ]
  },
  {
   "cell_type": "code",
   "execution_count": 41,
   "id": "825c5a8b",
   "metadata": {},
   "outputs": [],
   "source": [
    "# Primera unión con las claves (left Country Code rigth ISO3_origin, Year)\n",
    "merged_df_modelo_stock1 = pd.merge(Stock_migrantes, merged_df_modelo, left_on=['ISO3_origin', 'Year'], right_on=['Country Code', 'Year'], how='left')\n",
    "\n",
    "# Segunda unión con las claves (Year, left Country Code, rigth ISO3_dest)\n",
    "final_merged_df = pd.merge(merged_df_modelo_stock1, merged_df_modelo, left_on=['Year', 'ISO3_dest'], right_on=['Year', 'Country Code'], suffixes=('_origin', '_dest'), how='left')"
   ]
  },
  {
   "cell_type": "code",
   "execution_count": 42,
   "id": "4c43a2bc",
   "metadata": {},
   "outputs": [
    {
     "data": {
      "text/html": [
       "<div>\n",
       "<style scoped>\n",
       "    .dataframe tbody tr th:only-of-type {\n",
       "        vertical-align: middle;\n",
       "    }\n",
       "\n",
       "    .dataframe tbody tr th {\n",
       "        vertical-align: top;\n",
       "    }\n",
       "\n",
       "    .dataframe thead th {\n",
       "        text-align: right;\n",
       "    }\n",
       "</style>\n",
       "<table border=\"1\" class=\"dataframe\">\n",
       "  <thead>\n",
       "    <tr style=\"text-align: right;\">\n",
       "      <th></th>\n",
       "      <th>Destination</th>\n",
       "      <th>Notes of destination</th>\n",
       "      <th>Location code of destination</th>\n",
       "      <th>ISO3_dest</th>\n",
       "      <th>Type of data of destination</th>\n",
       "      <th>Origin</th>\n",
       "      <th>Location code of origin</th>\n",
       "      <th>ISO3_origin</th>\n",
       "      <th>Year</th>\n",
       "      <th>Migrant stock</th>\n",
       "      <th>Country Code_origin</th>\n",
       "      <th>Ingresos_origin</th>\n",
       "      <th>Electricidad_origin</th>\n",
       "      <th>Contaminación_origin</th>\n",
       "      <th>Crecimiento PBI_origin</th>\n",
       "      <th>Crecimiento PBI per cápita_origin</th>\n",
       "      <th>Desempleo Hombre_origin</th>\n",
       "      <th>Desempleo mujeres_origin</th>\n",
       "      <th>Gasto PBI_origin</th>\n",
       "      <th>Importaciones_origin</th>\n",
       "      <th>Migracion neta_origin</th>\n",
       "      <th>Desempleados con educación avanzada_origin</th>\n",
       "      <th>Tasa de cambio_origin</th>\n",
       "      <th>Pobreza_origin</th>\n",
       "      <th>Mortalidad_origin</th>\n",
       "      <th>Country Code_dest</th>\n",
       "      <th>Ingresos_dest</th>\n",
       "      <th>Electricidad_dest</th>\n",
       "      <th>Contaminación_dest</th>\n",
       "      <th>Crecimiento PBI_dest</th>\n",
       "      <th>Crecimiento PBI per cápita_dest</th>\n",
       "      <th>Desempleo Hombre_dest</th>\n",
       "      <th>Desempleo mujeres_dest</th>\n",
       "      <th>Gasto PBI_dest</th>\n",
       "      <th>Importaciones_dest</th>\n",
       "      <th>Migracion neta_dest</th>\n",
       "      <th>Desempleados con educación avanzada_dest</th>\n",
       "      <th>Tasa de cambio_dest</th>\n",
       "      <th>Pobreza_dest</th>\n",
       "      <th>Mortalidad_dest</th>\n",
       "    </tr>\n",
       "  </thead>\n",
       "  <tbody>\n",
       "    <tr>\n",
       "      <th>0</th>\n",
       "      <td>Burundi</td>\n",
       "      <td>NaN</td>\n",
       "      <td>108</td>\n",
       "      <td>BDI</td>\n",
       "      <td>B R</td>\n",
       "      <td>Democratic Republic of the Congo</td>\n",
       "      <td>180</td>\n",
       "      <td>COD</td>\n",
       "      <td>1990</td>\n",
       "      <td>36654</td>\n",
       "      <td>COD</td>\n",
       "      <td>NaN</td>\n",
       "      <td>NaN</td>\n",
       "      <td>100.000000</td>\n",
       "      <td>-6.568311</td>\n",
       "      <td>-9.584213</td>\n",
       "      <td>NaN</td>\n",
       "      <td>NaN</td>\n",
       "      <td>NaN</td>\n",
       "      <td>1.739000e+09</td>\n",
       "      <td>183750.0</td>\n",
       "      <td>NaN</td>\n",
       "      <td>2.394748e-09</td>\n",
       "      <td>NaN</td>\n",
       "      <td>16.833</td>\n",
       "      <td>BDI</td>\n",
       "      <td>NaN</td>\n",
       "      <td>NaN</td>\n",
       "      <td>100.0</td>\n",
       "      <td>3.499822</td>\n",
       "      <td>1.421896</td>\n",
       "      <td>0.72</td>\n",
       "      <td>NaN</td>\n",
       "      <td>NaN</td>\n",
       "      <td>231000000.0</td>\n",
       "      <td>-39996.0</td>\n",
       "      <td>NaN</td>\n",
       "      <td>171.255417</td>\n",
       "      <td>NaN</td>\n",
       "      <td>19.067</td>\n",
       "    </tr>\n",
       "    <tr>\n",
       "      <th>1</th>\n",
       "      <td>Burundi</td>\n",
       "      <td>NaN</td>\n",
       "      <td>108</td>\n",
       "      <td>BDI</td>\n",
       "      <td>B R</td>\n",
       "      <td>France*</td>\n",
       "      <td>250</td>\n",
       "      <td>FRA</td>\n",
       "      <td>1990</td>\n",
       "      <td>321</td>\n",
       "      <td>FRA</td>\n",
       "      <td>NaN</td>\n",
       "      <td>100.0</td>\n",
       "      <td>99.774451</td>\n",
       "      <td>2.923935</td>\n",
       "      <td>2.430247</td>\n",
       "      <td>7.17</td>\n",
       "      <td>NaN</td>\n",
       "      <td>38.949132</td>\n",
       "      <td>2.344360e+11</td>\n",
       "      <td>11404.0</td>\n",
       "      <td>NaN</td>\n",
       "      <td>5.445275e+00</td>\n",
       "      <td>NaN</td>\n",
       "      <td>9.300</td>\n",
       "      <td>BDI</td>\n",
       "      <td>NaN</td>\n",
       "      <td>NaN</td>\n",
       "      <td>100.0</td>\n",
       "      <td>3.499822</td>\n",
       "      <td>1.421896</td>\n",
       "      <td>0.72</td>\n",
       "      <td>NaN</td>\n",
       "      <td>NaN</td>\n",
       "      <td>231000000.0</td>\n",
       "      <td>-39996.0</td>\n",
       "      <td>NaN</td>\n",
       "      <td>171.255417</td>\n",
       "      <td>NaN</td>\n",
       "      <td>19.067</td>\n",
       "    </tr>\n",
       "    <tr>\n",
       "      <th>2</th>\n",
       "      <td>Burundi</td>\n",
       "      <td>NaN</td>\n",
       "      <td>108</td>\n",
       "      <td>BDI</td>\n",
       "      <td>B R</td>\n",
       "      <td>Kenya</td>\n",
       "      <td>404</td>\n",
       "      <td>KEN</td>\n",
       "      <td>1990</td>\n",
       "      <td>186</td>\n",
       "      <td>KEN</td>\n",
       "      <td>NaN</td>\n",
       "      <td>NaN</td>\n",
       "      <td>100.000000</td>\n",
       "      <td>4.192051</td>\n",
       "      <td>0.708230</td>\n",
       "      <td>NaN</td>\n",
       "      <td>NaN</td>\n",
       "      <td>NaN</td>\n",
       "      <td>2.223000e+09</td>\n",
       "      <td>-11341.0</td>\n",
       "      <td>NaN</td>\n",
       "      <td>2.291477e+01</td>\n",
       "      <td>NaN</td>\n",
       "      <td>9.310</td>\n",
       "      <td>BDI</td>\n",
       "      <td>NaN</td>\n",
       "      <td>NaN</td>\n",
       "      <td>100.0</td>\n",
       "      <td>3.499822</td>\n",
       "      <td>1.421896</td>\n",
       "      <td>0.72</td>\n",
       "      <td>NaN</td>\n",
       "      <td>NaN</td>\n",
       "      <td>231000000.0</td>\n",
       "      <td>-39996.0</td>\n",
       "      <td>NaN</td>\n",
       "      <td>171.255417</td>\n",
       "      <td>NaN</td>\n",
       "      <td>19.067</td>\n",
       "    </tr>\n",
       "  </tbody>\n",
       "</table>\n",
       "</div>"
      ],
      "text/plain": [
       "  Destination  Notes of destination  Location code of destination ISO3_dest  \\\n",
       "0     Burundi                   NaN                           108       BDI   \n",
       "1     Burundi                   NaN                           108       BDI   \n",
       "2     Burundi                   NaN                           108       BDI   \n",
       "\n",
       "  Type of data of destination                            Origin  \\\n",
       "0                         B R  Democratic Republic of the Congo   \n",
       "1                         B R                           France*   \n",
       "2                         B R                             Kenya   \n",
       "\n",
       "   Location code of origin ISO3_origin  Year  Migrant stock  \\\n",
       "0                      180         COD  1990          36654   \n",
       "1                      250         FRA  1990            321   \n",
       "2                      404         KEN  1990            186   \n",
       "\n",
       "  Country Code_origin  Ingresos_origin  Electricidad_origin  \\\n",
       "0                 COD              NaN                  NaN   \n",
       "1                 FRA              NaN                100.0   \n",
       "2                 KEN              NaN                  NaN   \n",
       "\n",
       "   Contaminación_origin  Crecimiento PBI_origin  \\\n",
       "0            100.000000               -6.568311   \n",
       "1             99.774451                2.923935   \n",
       "2            100.000000                4.192051   \n",
       "\n",
       "   Crecimiento PBI per cápita_origin  Desempleo Hombre_origin  \\\n",
       "0                          -9.584213                      NaN   \n",
       "1                           2.430247                     7.17   \n",
       "2                           0.708230                      NaN   \n",
       "\n",
       "   Desempleo mujeres_origin  Gasto PBI_origin  Importaciones_origin  \\\n",
       "0                       NaN               NaN          1.739000e+09   \n",
       "1                       NaN         38.949132          2.344360e+11   \n",
       "2                       NaN               NaN          2.223000e+09   \n",
       "\n",
       "   Migracion neta_origin  Desempleados con educación avanzada_origin  \\\n",
       "0               183750.0                                         NaN   \n",
       "1                11404.0                                         NaN   \n",
       "2               -11341.0                                         NaN   \n",
       "\n",
       "   Tasa de cambio_origin  Pobreza_origin  Mortalidad_origin Country Code_dest  \\\n",
       "0           2.394748e-09             NaN             16.833               BDI   \n",
       "1           5.445275e+00             NaN              9.300               BDI   \n",
       "2           2.291477e+01             NaN              9.310               BDI   \n",
       "\n",
       "   Ingresos_dest  Electricidad_dest  Contaminación_dest  Crecimiento PBI_dest  \\\n",
       "0            NaN                NaN               100.0              3.499822   \n",
       "1            NaN                NaN               100.0              3.499822   \n",
       "2            NaN                NaN               100.0              3.499822   \n",
       "\n",
       "   Crecimiento PBI per cápita_dest  Desempleo Hombre_dest  \\\n",
       "0                         1.421896                   0.72   \n",
       "1                         1.421896                   0.72   \n",
       "2                         1.421896                   0.72   \n",
       "\n",
       "   Desempleo mujeres_dest  Gasto PBI_dest  Importaciones_dest  \\\n",
       "0                     NaN             NaN         231000000.0   \n",
       "1                     NaN             NaN         231000000.0   \n",
       "2                     NaN             NaN         231000000.0   \n",
       "\n",
       "   Migracion neta_dest  Desempleados con educación avanzada_dest  \\\n",
       "0             -39996.0                                       NaN   \n",
       "1             -39996.0                                       NaN   \n",
       "2             -39996.0                                       NaN   \n",
       "\n",
       "   Tasa de cambio_dest  Pobreza_dest  Mortalidad_dest  \n",
       "0           171.255417           NaN           19.067  \n",
       "1           171.255417           NaN           19.067  \n",
       "2           171.255417           NaN           19.067  "
      ]
     },
     "execution_count": 42,
     "metadata": {},
     "output_type": "execute_result"
    }
   ],
   "source": [
    "final_merged_df.head(3)"
   ]
  },
  {
   "cell_type": "code",
   "execution_count": 43,
   "id": "74427517",
   "metadata": {},
   "outputs": [
    {
     "data": {
      "text/plain": [
       "Index(['Destination', 'Notes of destination', 'Location code of destination',\n",
       "       'ISO3_dest', 'Type of data of destination', 'Origin',\n",
       "       'Location code of origin', 'ISO3_origin', 'Year', 'Migrant stock',\n",
       "       'Country Code_origin', 'Ingresos_origin', 'Electricidad_origin',\n",
       "       'Contaminación_origin', 'Crecimiento PBI_origin',\n",
       "       'Crecimiento PBI per cápita_origin', 'Desempleo Hombre_origin',\n",
       "       'Desempleo mujeres_origin', 'Gasto PBI_origin', 'Importaciones_origin',\n",
       "       'Migracion neta_origin', 'Desempleados con educación avanzada_origin',\n",
       "       'Tasa de cambio_origin', 'Pobreza_origin', 'Mortalidad_origin',\n",
       "       'Country Code_dest', 'Ingresos_dest', 'Electricidad_dest',\n",
       "       'Contaminación_dest', 'Crecimiento PBI_dest',\n",
       "       'Crecimiento PBI per cápita_dest', 'Desempleo Hombre_dest',\n",
       "       'Desempleo mujeres_dest', 'Gasto PBI_dest', 'Importaciones_dest',\n",
       "       'Migracion neta_dest', 'Desempleados con educación avanzada_dest',\n",
       "       'Tasa de cambio_dest', 'Pobreza_dest', 'Mortalidad_dest'],\n",
       "      dtype='object')"
      ]
     },
     "execution_count": 43,
     "metadata": {},
     "output_type": "execute_result"
    }
   ],
   "source": [
    "final_merged_df.columns"
   ]
  },
  {
   "cell_type": "code",
   "execution_count": 45,
   "id": "e873c183",
   "metadata": {},
   "outputs": [],
   "source": [
    "final_modelo_stock=final_merged_df[['Destination',\n",
    "       'ISO3_dest','Origin', 'ISO3_origin', 'Year', 'Migrant stock',\n",
    "       'Ingresos_origin', 'Electricidad_origin',\n",
    "       'Contaminación_origin', 'Crecimiento PBI_origin',\n",
    "       'Crecimiento PBI per cápita_origin', 'Desempleo Hombre_origin',\n",
    "       'Desempleo mujeres_origin', 'Gasto PBI_origin', 'Importaciones_origin',\n",
    "       'Desempleados con educación avanzada_origin',\n",
    "       'Tasa de cambio_origin', 'Pobreza_origin', 'Mortalidad_origin',\n",
    "       'Ingresos_dest', 'Electricidad_dest',\n",
    "       'Contaminación_dest', 'Crecimiento PBI_dest',\n",
    "       'Crecimiento PBI per cápita_dest', 'Desempleo Hombre_dest',\n",
    "       'Desempleo mujeres_dest', 'Gasto PBI_dest', 'Importaciones_dest',\n",
    "       'Desempleados con educación avanzada_dest',\n",
    "       'Tasa de cambio_dest', 'Pobreza_dest', 'Mortalidad_dest']]"
   ]
  },
  {
   "cell_type": "code",
   "execution_count": 46,
   "id": "f8b9e23d",
   "metadata": {},
   "outputs": [],
   "source": [
    "umbral_stock = len(merged_df_modelo.columns) * 0.7"
   ]
  },
  {
   "cell_type": "code",
   "execution_count": 47,
   "id": "78fd284a",
   "metadata": {},
   "outputs": [],
   "source": [
    "final_modelo_stock_sin_80_na = fina_modelo_stock.dropna(thresh=umbral)"
   ]
  },
  {
   "cell_type": "code",
   "execution_count": 48,
   "id": "959fb2c3",
   "metadata": {},
   "outputs": [
    {
     "name": "stdout",
     "output_type": "stream",
     "text": [
      "<class 'pandas.core.frame.DataFrame'>\n",
      "Int64Index: 63817 entries, 0 to 64077\n",
      "Data columns (total 32 columns):\n",
      " #   Column                                      Non-Null Count  Dtype  \n",
      "---  ------                                      --------------  -----  \n",
      " 0   Destination                                 63817 non-null  object \n",
      " 1   ISO3_dest                                   63817 non-null  object \n",
      " 2   Origin                                      63817 non-null  object \n",
      " 3   ISO3_origin                                 63817 non-null  object \n",
      " 4   Year                                        63817 non-null  int64  \n",
      " 5   Migrant stock                               63817 non-null  int64  \n",
      " 6   Ingresos_origin                             5402 non-null   float64\n",
      " 7   Electricidad_origin                         54658 non-null  float64\n",
      " 8   Contaminación_origin                        51932 non-null  float64\n",
      " 9   Crecimiento PBI_origin                      59112 non-null  float64\n",
      " 10  Crecimiento PBI per cápita_origin           59070 non-null  float64\n",
      " 11  Desempleo Hombre_origin                     35994 non-null  float64\n",
      " 12  Desempleo mujeres_origin                    51340 non-null  float64\n",
      " 13  Gasto PBI_origin                            35334 non-null  float64\n",
      " 14  Importaciones_origin                        59379 non-null  float64\n",
      " 15  Desempleados con educación avanzada_origin  23373 non-null  float64\n",
      " 16  Tasa de cambio_origin                       59022 non-null  float64\n",
      " 17  Pobreza_origin                              11954 non-null  float64\n",
      " 18  Mortalidad_origin                           62635 non-null  float64\n",
      " 19  Ingresos_dest                               8530 non-null   float64\n",
      " 20  Electricidad_dest                           58312 non-null  float64\n",
      " 21  Contaminación_dest                          51616 non-null  float64\n",
      " 22  Crecimiento PBI_dest                        58200 non-null  float64\n",
      " 23  Crecimiento PBI per cápita_dest             58192 non-null  float64\n",
      " 24  Desempleo Hombre_dest                       46509 non-null  float64\n",
      " 25  Desempleo mujeres_dest                      51354 non-null  float64\n",
      " 26  Gasto PBI_dest                              45306 non-null  float64\n",
      " 27  Importaciones_dest                          58822 non-null  float64\n",
      " 28  Desempleados con educación avanzada_dest    33740 non-null  float64\n",
      " 29  Tasa de cambio_dest                         59591 non-null  float64\n",
      " 30  Pobreza_dest                                17568 non-null  float64\n",
      " 31  Mortalidad_dest                             62806 non-null  float64\n",
      "dtypes: float64(26), int64(2), object(4)\n",
      "memory usage: 16.1+ MB\n"
     ]
    }
   ],
   "source": [
    "final_modelo_stock_sin_80_na.info() "
   ]
  },
  {
   "cell_type": "code",
   "execution_count": 52,
   "id": "f50702ae",
   "metadata": {},
   "outputs": [],
   "source": [
    "# columnas a imputar son las siguientes\n",
    "columns_to_impute = ['Ingresos_origin', 'Electricidad_origin',\n",
    "       'Contaminación_origin', 'Crecimiento PBI_origin',\n",
    "       'Crecimiento PBI per cápita_origin', 'Desempleo Hombre_origin',\n",
    "       'Desempleo mujeres_origin', 'Gasto PBI_origin', 'Importaciones_origin',\n",
    "       'Desempleados con educación avanzada_origin', 'Tasa de cambio_origin',\n",
    "       'Pobreza_origin', 'Mortalidad_origin', 'Ingresos_dest',\n",
    "       'Electricidad_dest', 'Contaminación_dest', 'Crecimiento PBI_dest',\n",
    "       'Crecimiento PBI per cápita_dest', 'Desempleo Hombre_dest',\n",
    "       'Desempleo mujeres_dest', 'Gasto PBI_dest', 'Importaciones_dest',\n",
    "       'Desempleados con educación avanzada_dest', 'Tasa de cambio_dest',\n",
    "       'Pobreza_dest', 'Mortalidad_dest']\n",
    "\n",
    "# Copiar el DataFrame original para no modificarlo directamente\n",
    "final_modelo_stock_sin_80_na_imputed =final_modelo_stock_sin_80_na.copy()\n",
    "\n",
    "# Crear una instancia de KNNImputer\n",
    "imputer = KNNImputer(n_neighbors=5)  # Elige el número de vecinos que deseas considerar\n",
    "\n",
    "# Ajustar y transformar los datos utilizando KNNImputer\n",
    "final_modelo_stock_sin_80_na_imputed[columns_to_impute] = imputer.fit_transform(final_modelo_stock_sin_80_na_imputed[columns_to_impute])\n",
    "\n"
   ]
  },
  {
   "cell_type": "code",
   "execution_count": 53,
   "id": "e36744af",
   "metadata": {},
   "outputs": [
    {
     "name": "stdout",
     "output_type": "stream",
     "text": [
      "<class 'pandas.core.frame.DataFrame'>\n",
      "Int64Index: 63817 entries, 0 to 64077\n",
      "Data columns (total 32 columns):\n",
      " #   Column                                      Non-Null Count  Dtype  \n",
      "---  ------                                      --------------  -----  \n",
      " 0   Destination                                 63817 non-null  object \n",
      " 1   ISO3_dest                                   63817 non-null  object \n",
      " 2   Origin                                      63817 non-null  object \n",
      " 3   ISO3_origin                                 63817 non-null  object \n",
      " 4   Year                                        63817 non-null  int64  \n",
      " 5   Migrant stock                               63817 non-null  int64  \n",
      " 6   Ingresos_origin                             63817 non-null  float64\n",
      " 7   Electricidad_origin                         63817 non-null  float64\n",
      " 8   Contaminación_origin                        63817 non-null  float64\n",
      " 9   Crecimiento PBI_origin                      63817 non-null  float64\n",
      " 10  Crecimiento PBI per cápita_origin           63817 non-null  float64\n",
      " 11  Desempleo Hombre_origin                     63817 non-null  float64\n",
      " 12  Desempleo mujeres_origin                    63817 non-null  float64\n",
      " 13  Gasto PBI_origin                            63817 non-null  float64\n",
      " 14  Importaciones_origin                        63817 non-null  float64\n",
      " 15  Desempleados con educación avanzada_origin  63817 non-null  float64\n",
      " 16  Tasa de cambio_origin                       63817 non-null  float64\n",
      " 17  Pobreza_origin                              63817 non-null  float64\n",
      " 18  Mortalidad_origin                           63817 non-null  float64\n",
      " 19  Ingresos_dest                               63817 non-null  float64\n",
      " 20  Electricidad_dest                           63817 non-null  float64\n",
      " 21  Contaminación_dest                          63817 non-null  float64\n",
      " 22  Crecimiento PBI_dest                        63817 non-null  float64\n",
      " 23  Crecimiento PBI per cápita_dest             63817 non-null  float64\n",
      " 24  Desempleo Hombre_dest                       63817 non-null  float64\n",
      " 25  Desempleo mujeres_dest                      63817 non-null  float64\n",
      " 26  Gasto PBI_dest                              63817 non-null  float64\n",
      " 27  Importaciones_dest                          63817 non-null  float64\n",
      " 28  Desempleados con educación avanzada_dest    63817 non-null  float64\n",
      " 29  Tasa de cambio_dest                         63817 non-null  float64\n",
      " 30  Pobreza_dest                                63817 non-null  float64\n",
      " 31  Mortalidad_dest                             63817 non-null  float64\n",
      "dtypes: float64(26), int64(2), object(4)\n",
      "memory usage: 16.1+ MB\n"
     ]
    }
   ],
   "source": [
    "final_modelo_stock_sin_80_na_imputed.info()"
   ]
  },
  {
   "cell_type": "code",
   "execution_count": 62,
   "id": "ac22ee3a",
   "metadata": {},
   "outputs": [],
   "source": [
    "# Ordenar el DataFrame por la columna 'Year'\n",
    "final_modelo_stock_sin_80_na_imputed.sort_values('Year', inplace=True)\n",
    "\n",
    "# Restablecer el índice\n",
    "final_modelo_stock_sin_80_na_imputed.reset_index(drop=True, inplace=True)"
   ]
  },
  {
   "cell_type": "code",
   "execution_count": 63,
   "id": "16bd29e5",
   "metadata": {},
   "outputs": [],
   "source": [
    "\n",
    "# Eliminar las filas con valores nulos en la columna objetivo 'Migracion neta'\n",
    "final_modelo_stock_sin_80_na_imputed.dropna(subset=['Migrant stock'], inplace=True)\n",
    "\n",
    "# Definir features y target\n",
    "X = final_modelo_stock_sin_80_na_imputed.drop(['Migrant stock','Destination','Origin'], axis=1)  # Características excepto 'Migracion neta' y 'Country Code'\n",
    "y = final_modelo_stock_sin_80_na_imputed['Migrant stock']  # Etiquetas\n",
    "\n",
    "\n",
    "\n",
    "# Dividir los datos en conjuntos de entrenamiento y prueba y hacer dummies\n",
    "X = pd.get_dummies(X, columns=['ISO3_origin','ISO3_dest'])\n",
    "X_train, X_test, y_train, y_test = train_test_split(X, y, test_size=0.2, shuffle=False,random_state=0)\n",
    "\n",
    "# Crear un modelo BaggingRegressor\n",
    "bagging_model = BaggingRegressor(random_state=0)\n",
    "\n",
    "# Entrenar el modelo\n",
    "bagging_model.fit(X_train, y_train)\n",
    "\n",
    "# Realizar predicciones en el conjunto de prueba\n",
    "y_pred = bagging_model.predict(X_test)\n",
    "\n"
   ]
  },
  {
   "cell_type": "code",
   "execution_count": 64,
   "id": "a72a01da",
   "metadata": {},
   "outputs": [],
   "source": [
    "mse = mean_squared_error(y_test, y_pred)\n",
    "r2 = r2_score(y_test, y_pred)"
   ]
  },
  {
   "cell_type": "code",
   "execution_count": 65,
   "id": "1e0bcc12",
   "metadata": {},
   "outputs": [
    {
     "data": {
      "text/plain": [
       "7266270465.392627"
      ]
     },
     "execution_count": 65,
     "metadata": {},
     "output_type": "execute_result"
    }
   ],
   "source": [
    "mse"
   ]
  },
  {
   "cell_type": "code",
   "execution_count": 66,
   "id": "4a75da84",
   "metadata": {},
   "outputs": [
    {
     "data": {
      "text/plain": [
       "0.7525883584581008"
      ]
     },
     "execution_count": 66,
     "metadata": {},
     "output_type": "execute_result"
    }
   ],
   "source": [
    "r2"
   ]
  },
  {
   "cell_type": "code",
   "execution_count": 67,
   "id": "96ff3e8e",
   "metadata": {},
   "outputs": [
    {
     "data": {
      "image/png": "[encoded data removed]",
      "text/plain": [
       "<Figure size 1000x600 with 1 Axes>"
      ]
     },
     "metadata": {},
     "output_type": "display_data"
    }
   ],
   "source": [
    "import matplotlib.pyplot as plt\n",
    "\n",
    "# Graficar Ytest y Ypred\n",
    "plt.figure(figsize=(10, 6))\n",
    "plt.plot(y_test.index, y_test, label='Ytest', marker='o')\n",
    "plt.plot(y_test.index, y_pred, label='Ypred', marker='x')\n",
    "plt.xlabel('Índice de la muestra')\n",
    "plt.ylabel('Migracion neta')\n",
    "plt.title('Valores reales vs. Predicciones')\n",
    "plt.legend()\n",
    "plt.show()"
   ]
  },
  {
   "cell_type": "code",
   "execution_count": null,
   "id": "e08174a6",
   "metadata": {},
   "outputs": [],
   "source": []
  },
  {
   "cell_type": "code",
   "execution_count": null,
   "id": "e5ff2ef7",
   "metadata": {},
   "outputs": [],
   "source": []
  },
  {
   "cell_type": "code",
   "execution_count": 79,
   "id": "090393fc",
   "metadata": {},
   "outputs": [
    {
     "name": "stdout",
     "output_type": "stream",
     "text": [
      "Mean Squared Error (MSE): 5705304696.738539\n",
      "R-squared (R2): 0.805738197161848\n"
     ]
    }
   ],
   "source": [
    "from xgboost.sklearn import XGBRegressor\n",
    "\n",
    "# Resto de tu código aquí...\n",
    "\n",
    "# Crear un modelo XGBRegressor\n",
    "xgb_model = XGBRegressor()\n",
    "\n",
    "# Entrenar el modelo\n",
    "xgb_model.fit(X_train, y_train)\n",
    "\n",
    "# Realizar predicciones en el conjunto de prueba\n",
    "y_pred = xgb_model.predict(X_test)\n",
    "\n",
    "# Calcular el error cuadrático medio y el coeficiente de determinación (R cuadrado)\n",
    "mse = mean_squared_error(y_test, y_pred)\n",
    "r2 = r2_score(y_test, y_pred)\n",
    "\n",
    "# Imprimir los resultados\n",
    "print(\"Mean Squared Error (MSE):\", mse)\n",
    "print(\"R-squared (R2):\", r2)\n"
   ]
  }
 ],
 "metadata": {
  "kernelspec": {
   "display_name": "Python [conda env:dhdsblend2021] *",
   "language": "python",
   "name": "conda-env-dhdsblend2021-py"
  },
  "language_info": {
   "codemirror_mode": {
    "name": "ipython",
    "version": 3
   },
   "file_extension": ".py",
   "mimetype": "text/x-python",
   "name": "python",
   "nbconvert_exporter": "python",
   "pygments_lexer": "ipython3",
   "version": "3.8.12"
  }
 },
 "nbformat": 4,
 "nbformat_minor": 5
}
